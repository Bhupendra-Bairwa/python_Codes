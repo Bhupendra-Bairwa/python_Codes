{
 "cells": [
  {
   "cell_type": "code",
   "execution_count": null,
   "id": "77c9913b-ddfc-4735-bd1c-b5fef0884a3a",
   "metadata": {},
   "outputs": [],
   "source": [
    "import pywhatkit\n",
    "  pywhatkit.sendwhatmsg(\"+919509982703\", \n",
    "                      \"Geeks For Geeks!\", \n",
    "                      18, 30) "
   ]
  },
  {
   "cell_type": "code",
   "execution_count": null,
   "id": "f03474e5-a74a-4fbe-aeb1-7f5620758d7c",
   "metadata": {},
   "outputs": [],
   "source": [
    "import pywhatkit as kit\n",
    "# Send a WhatsApp message\n",
    "phone_number = \"+919509982703\"  # Replace with recipient's phone number (include country code)\n",
    "message = \"Hello! This is an automated message sent using Python.\"\n",
    "hour = 0  # Specify the hour in 24-hour format\n",
    "minute = 1  # Specify the minute\n",
    "try:\n",
    "    kit.sendwhatmsg(phone_number, message, hour, minute)\n",
    "    print(\"Message scheduled successfully!\")\n",
    "except Exception as e:\n",
    "    print(f\"An error occurred: {e}\") \n"
   ]
  },
  {
   "cell_type": "code",
   "execution_count": null,
   "id": "7b2e78c3-644e-4c0f-8c1c-86343b4bb15b",
   "metadata": {},
   "outputs": [],
   "source": [
    "# Arithmetic Operators\n",
    "\n",
    "A=20\n",
    "B=3\n",
    "\n",
    "C=A+B\n",
    "D=A-B\n",
    "E=A*B\n",
    "F=A/B\n",
    "G=A%B\n",
    "H=A**B\n",
    "I=A//B\n",
    "\n",
    "print(\"Addition\",C)\n",
    "print(\"Subtraction\",D)\n",
    "print(\"Multiplication\",E)\n",
    "print(\"Devision\",F)\n",
    "print(\"Modulas\",G)\n",
    "print(\"Exponentiation\",H)\n",
    "print(\"Floor Division\",I)\n"
   ]
  },
  {
   "cell_type": "code",
   "execution_count": null,
   "id": "359ab23f-232e-461e-933c-a922cfae747d",
   "metadata": {},
   "outputs": [],
   "source": [
    "# comparision operator\n",
    "\n",
    "A=20\n",
    "B=56\n",
    "\n",
    "C=(A==B)\n",
    "D=(A<B)\n",
    "E=(A>B)\n",
    "F=(A<=B)\n",
    "G=(A>=B)\n",
    "\n",
    "print(C)\n",
    "print(D)\n",
    "print(E)\n",
    "print(F)\n",
    "print(G)"
   ]
  },
  {
   "cell_type": "code",
   "execution_count": null,
   "id": "36cb53c4-33bc-47cf-85f7-0f3a4a26e399",
   "metadata": {},
   "outputs": [],
   "source": [
    "# Assignment operator\n",
    "\n",
    "A=3\n",
    "B=4\n",
    "\n",
    "A +=5\n",
    "B -=2\n",
    "\n",
    "print(\"A assign new value: \",A)\n",
    "print(\"B assign new value: \",B)"
   ]
  },
  {
   "cell_type": "code",
   "execution_count": null,
   "id": "3bfe30f0-4185-44b2-9250-06b57c6df1a5",
   "metadata": {},
   "outputs": [],
   "source": [
    "# Logical Operators\n",
    "\n",
    "A=8\n",
    "B=5\n",
    "\n",
    "C=(A==7)and(B>=9)\n",
    "D=(A!=8) or(B==5)\n",
    "\n",
    "print(C)\n",
    "print(D)"
   ]
  },
  {
   "cell_type": "code",
   "execution_count": null,
   "id": "655614bc-a2e5-4605-8473-f2136a446dae",
   "metadata": {},
   "outputs": [],
   "source": [
    "# install the library PythonTurtle \n",
    "# open cmd and type pip install PythonTurtle\n",
    "\n",
    "from turtle import*\n",
    "import colorsys as cs\n",
    "bgcolor(\"black\")\n",
    "pensize(3)\n",
    "tracer(20)\n",
    "h=0\n",
    "def draw(ang,s):\n",
    "    circle(5+s, 69)\n",
    "    left(ang)\n",
    "    circle(5 + s*2, 60)\n",
    "for i in range(150):\n",
    "    color(cs.hsv_to_rgb(h,1,1))\n",
    "    h += 0.005\n",
    "    up()\n",
    "    draw(90, i)\n",
    "    draw(180, i)\n",
    "    down()\n",
    "    draw(1/2,0)\n",
    "    draw(160,i/2)\n",
    "    draw(100,i-1)\n",
    "    draw(1.2,0)\n",
    "done()"
   ]
  },
  {
   "cell_type": "code",
   "execution_count": null,
   "id": "d98ad6ee-dd1b-4aed-ad51-cfb4ca96667e",
   "metadata": {},
   "outputs": [],
   "source": [
    "import pywhatkit as kit\n",
    "\n",
    "# Parameters:\n",
    "# phone_num: Receiver's WhatsApp number with country code (e.g., +1234567890)\n",
    "# message: The message to be sent\n",
    "# time_hour: Hour (24-hour format) to send the message\n",
    "# time_minute: Minute to send the message\n",
    "\n",
    "kit.sendwhatmsg(\"+91 9509982703\", \"Hello, this is a test message!\", 15, 30)"
   ]
  },
  {
   "cell_type": "code",
   "execution_count": null,
   "id": "122de657-d6b2-445a-99af-7b95b07d9289",
   "metadata": {},
   "outputs": [],
   "source": [
    "A=int(input())\n",
    "if A>=25:\n",
    "    print(\"A is grater than 25\")\n",
    "else:\n",
    "    print(\"A is smaler than 25\")"
   ]
  },
  {
   "cell_type": "code",
   "execution_count": null,
   "id": "2de5e3c5-98fa-47ce-bda9-ca73231e0bd1",
   "metadata": {},
   "outputs": [],
   "source": [
    "#grater than three number\n",
    "\n",
    "A=int(input(\"enter the value of A\"))\n",
    "B=int(input(\"enter the value of B\"))\n",
    "C=int(input(\"enter the value of C\"))\n",
    "\n",
    "if (A>B) and (A>C):\n",
    "    print(\"A is grater then B,C:\",A)\n",
    "elif (B>A) and (B>C):\n",
    "    print(\"B is grater than A,C:\",B)\n",
    "elif (C>A) and (C>B):\n",
    "    print(\"C is grater than A,B\",C)\n",
    "else:\n",
    "    print(\"Invalid number\")"
   ]
  },
  {
   "cell_type": "code",
   "execution_count": 37,
   "id": "58752042-c9d9-4efa-a9fc-66579ddae80d",
   "metadata": {},
   "outputs": [
    {
     "name": "stdin",
     "output_type": "stream",
     "text": [
      "enter the length 7\n",
      "enter the bridth 5\n"
     ]
    },
    {
     "name": "stdout",
     "output_type": "stream",
     "text": [
      "24\n"
     ]
    }
   ],
   "source": [
    "L=int(input(\"enter the length\"))\n",
    "B=int(input(\"enter the bridth\"))\n",
    "\n",
    "parameter=2*(L+B)\n",
    "\n",
    "print(parameter)"
   ]
  },
  {
   "cell_type": "code",
   "execution_count": 35,
   "id": "76508525-bde5-4ff1-a472-cd0ddbbc14f5",
   "metadata": {
    "scrolled": true
   },
   "outputs": [
    {
     "name": "stdin",
     "output_type": "stream",
     "text": [
      "enter the string:  jkjljlklllll\n"
     ]
    },
    {
     "name": "stdout",
     "output_type": "stream",
     "text": [
      "12\n",
      "12\n"
     ]
    }
   ],
   "source": [
    "C=input(\"enter the string: \")\n",
    "length=len(C)\n",
    "hei=str(length)\n",
    "print(length)\n",
    "print(hei)"
   ]
  },
  {
   "cell_type": "code",
   "execution_count": 33,
   "id": "88c9c659-5e5e-499c-a163-3dedde793526",
   "metadata": {},
   "outputs": [
    {
     "name": "stdin",
     "output_type": "stream",
     "text": [
      "enter the number 18\n"
     ]
    },
    {
     "name": "stdout",
     "output_type": "stream",
     "text": [
      "less then 20\n"
     ]
    }
   ],
   "source": [
    "number = int(input(\"enter the number\"))\n",
    "if number>16:\n",
    "    if number<=20:\n",
    "        print(\"less then 20\")\n",
    "    else:\n",
    "        print(\"grater than 20\")\n",
    "else:\n",
    "    if number <=15:\n",
    "        print(\"hello\")\n",
    "    else:\n",
    "        print(\"world!\")"
   ]
  },
  {
   "cell_type": "code",
   "execution_count": 31,
   "id": "1e86176c-c159-478d-b46c-ea1a2636ec1e",
   "metadata": {},
   "outputs": [
    {
     "name": "stdin",
     "output_type": "stream",
     "text": [
      "Enter the year 2024\n"
     ]
    },
    {
     "name": "stdout",
     "output_type": "stream",
     "text": [
      "True\n"
     ]
    }
   ],
   "source": [
    "Y=int(input(\"Enter the year\"))\n",
    "check1 = (Y%400==0)\n",
    "check2 = (Y%4==0 and Y%100!=0)\n",
    "if check1 or check2:\n",
    "    print(\"True\")\n",
    "else:\n",
    "    print(\"False\")"
   ]
  },
  {
   "cell_type": "code",
   "execution_count": 29,
   "id": "b33893ed-26c8-4725-9cf7-8dabf055cd02",
   "metadata": {},
   "outputs": [
    {
     "name": "stdin",
     "output_type": "stream",
     "text": [
      "enter the value of n 6\n"
     ]
    },
    {
     "name": "stdout",
     "output_type": "stream",
     "text": [
      "Hello world!\n",
      "-1\n",
      "Hello world!\n",
      "-2\n",
      "Hello world!\n",
      "-3\n",
      "Hello world!\n",
      "-4\n",
      "Hello world!\n",
      "-5\n"
     ]
    }
   ],
   "source": [
    "n=int(input(\"enter the value of n\"))\n",
    "count=0\n",
    "for i in range(1,n):\n",
    "    count -= 1\n",
    "    print(\"Hello world!\")\n",
    "    print(count)"
   ]
  },
  {
   "cell_type": "code",
   "execution_count": 27,
   "id": "00e74b49-35d4-4cc9-b441-e7ccbc9c95d0",
   "metadata": {},
   "outputs": [
    {
     "name": "stdin",
     "output_type": "stream",
     "text": [
      "enter the value of N 5\n"
     ]
    },
    {
     "name": "stdout",
     "output_type": "stream",
     "text": [
      "factorial of 5 is 1\n",
      "factorial of 5 is 2\n",
      "factorial of 5 is 6\n",
      "factorial of 5 is 24\n",
      "factorial of 5 is 120\n"
     ]
    }
   ],
   "source": [
    "#factorial of N number\n",
    "\n",
    "N=int(input(\"enter the value of N\"))\n",
    "fact=1\n",
    "for i in range(1,N+1):\n",
    "    fact=fact*i\n",
    "    print(\"factorial of\",N,\"is\",fact)"
   ]
  },
  {
   "cell_type": "code",
   "execution_count": 11,
   "id": "86ca7091-b7dc-44b3-83a1-8ef50f1cce5f",
   "metadata": {},
   "outputs": [
    {
     "name": "stdin",
     "output_type": "stream",
     "text": [
      "enter the value of n 3\n"
     ]
    },
    {
     "name": "stdout",
     "output_type": "stream",
     "text": [
      "FIBONACCI SERIES\n",
      "  0   1  1  2  3"
     ]
    }
   ],
   "source": [
    "# Fibonacci Series\n",
    "\n",
    "a=0\n",
    "b=1\n",
    "n=int(input(\"enter the value of n\"))\n",
    "print(\"FIBONACCI SERIES\")\n",
    "print(\" \",a,\" \",b,end=\"\")\n",
    "for i in range(n):\n",
    "    c=a+b\n",
    "    a=b\n",
    "    b=c\n",
    "    print(\" \",c,end=\"\")"
   ]
  },
  {
   "cell_type": "code",
   "execution_count": 9,
   "id": "1691bde6-ee22-433c-8736-536ddbec55c1",
   "metadata": {
    "scrolled": true
   },
   "outputs": [
    {
     "name": "stdout",
     "output_type": "stream",
     "text": [
      "15 \n",
      "14 13 \n",
      "12 11 10 \n",
      "9 8 7 6 \n",
      "5 4 3 2 1 \n"
     ]
    }
   ],
   "source": [
    "num=15\n",
    "for X in range(1,6):\n",
    "    for Y in range(1,X+1):\n",
    "        print(str(num)+\" \",end=\"\")\n",
    "        num -=1\n",
    "    print()"
   ]
  },
  {
   "cell_type": "code",
   "execution_count": 7,
   "id": "eb972e9f-dd81-460a-9060-cc02dac3471f",
   "metadata": {},
   "outputs": [
    {
     "name": "stdout",
     "output_type": "stream",
     "text": [
      "A A A A A \n",
      "A A A A \n",
      "A A A \n",
      "A A \n",
      "A \n"
     ]
    }
   ],
   "source": [
    "for i in range(1,6):\n",
    "    for j in range(6,i,-1):\n",
    "        print(\"A\"+\" \",end=\"\")\n",
    "    print()"
   ]
  },
  {
   "cell_type": "code",
   "execution_count": 25,
   "id": "ec157899-fd2f-40bb-9342-3ff6810af33c",
   "metadata": {},
   "outputs": [
    {
     "name": "stdout",
     "output_type": "stream",
     "text": [
      "A H O V ] d k \n",
      "B I P W ^ e l \n",
      "C J Q X _ f m \n",
      "D K R Y ` g n \n",
      "E L S Z a h o \n",
      "F M T [ b i p \n",
      "G N U \\ c j q \n"
     ]
    }
   ],
   "source": [
    "n=7\n",
    "for x in range(0,n):\n",
    "    for y in range(1,n+1):\n",
    "        x += n\n",
    "        print(chr(x-n+65)+\" \",end=\"\")\n",
    "    print()"
   ]
  },
  {
   "cell_type": "code",
   "execution_count": 23,
   "id": "f42d8a24-e709-4103-84d8-71d6ab434e15",
   "metadata": {},
   "outputs": [
    {
     "name": "stdout",
     "output_type": "stream",
     "text": [
      "G N U \\ c j q \n",
      "F M T [ b i p \n",
      "E L S Z a h o \n",
      "D K R Y ` g n \n",
      "C J Q X _ f m \n",
      "B I P W ^ e l \n",
      "A H O V ] d k \n"
     ]
    }
   ],
   "source": [
    "n=7\n",
    "for x in range(1,n+1):\n",
    "    p=n-x\n",
    "    for y in range(1,n+1):\n",
    "        print(chr(p+65)+\" \",end=\"\")\n",
    "        p=p+n\n",
    "    print()"
   ]
  },
  {
   "cell_type": "code",
   "execution_count": 5,
   "id": "70365d04-d83f-4c0e-84ab-a2b5d5b9838c",
   "metadata": {},
   "outputs": [
    {
     "name": "stdout",
     "output_type": "stream",
     "text": [
      "0\n",
      "1\n",
      "2\n",
      "3\n",
      "4\n",
      "5\n"
     ]
    },
    {
     "data": {
      "text/plain": [
       "<function print(*args, sep=' ', end='\\n', file=None, flush=False)>"
      ]
     },
     "execution_count": 5,
     "metadata": {},
     "output_type": "execute_result"
    }
   ],
   "source": [
    "count =0\n",
    "while(count<6):\n",
    "    print(count)\n",
    "    count +=1\n",
    "print"
   ]
  },
  {
   "cell_type": "code",
   "execution_count": 3,
   "id": "20b3a07e-3edf-4320-b326-b0270bd3f5d3",
   "metadata": {},
   "outputs": [
    {
     "name": "stdout",
     "output_type": "stream",
     "text": [
      "5\n",
      "4\n",
      "3\n",
      "2\n",
      "1\n",
      "0\n",
      "-1\n",
      "-2\n",
      "-3\n",
      "-4\n"
     ]
    },
    {
     "data": {
      "text/plain": [
       "<function print(*args, sep=' ', end='\\n', file=None, flush=False)>"
      ]
     },
     "execution_count": 3,
     "metadata": {},
     "output_type": "execute_result"
    }
   ],
   "source": [
    "count =5\n",
    "while(-5<count<6):\n",
    "    print(count)\n",
    "    count -=1\n",
    "print"
   ]
  },
  {
   "cell_type": "code",
   "execution_count": 17,
   "id": "704f0609-1138-4024-a467-5bd5e3575175",
   "metadata": {},
   "outputs": [
    {
     "name": "stdin",
     "output_type": "stream",
     "text": [
      "enter the value of n 5\n"
     ]
    },
    {
     "name": "stdout",
     "output_type": "stream",
     "text": [
      "* \n",
      "* * \n",
      "* * * \n",
      "* * * * \n",
      "* * * * * \n"
     ]
    }
   ],
   "source": [
    "n=int(input(\"enter the value of n\"))\n",
    "i=1\n",
    "while(i<=n):\n",
    "    j=1\n",
    "    while(j<=i):\n",
    "        print(\"*\",end=\" \")\n",
    "        j +=1\n",
    "    print()\n",
    "    i+=1"
   ]
  },
  {
   "cell_type": "code",
   "execution_count": 19,
   "id": "0eac05f2-46a9-43d3-9f12-65259fd3a55b",
   "metadata": {},
   "outputs": [
    {
     "name": "stdin",
     "output_type": "stream",
     "text": [
      "enter the value of n 5\n"
     ]
    },
    {
     "name": "stdout",
     "output_type": "stream",
     "text": [
      "* * * * * \n",
      "* * * * \n",
      "* * * \n",
      "* * \n",
      "* \n"
     ]
    }
   ],
   "source": [
    "n=int(input(\"enter the value of n\"))\n",
    "i=1\n",
    "while(i<=n):\n",
    "    j=n\n",
    "    while(j>=i):\n",
    "        print(\"*\",end=\" \")\n",
    "        j -=1\n",
    "    print()\n",
    "    i+=1"
   ]
  },
  {
   "cell_type": "code",
   "execution_count": 21,
   "id": "94ee99dd-45a3-4580-8cec-3dd61b844e33",
   "metadata": {},
   "outputs": [
    {
     "name": "stdin",
     "output_type": "stream",
     "text": [
      "enter the value of n 6\n"
     ]
    },
    {
     "name": "stdout",
     "output_type": "stream",
     "text": [
      "  1 \n",
      "  2   3 \n",
      "  4   5   6 \n",
      "  7   8   9  10 \n",
      " 11  12  13  14  15 \n",
      " 16  17  18  19  20  21 \n"
     ]
    }
   ],
   "source": [
    "n=int(input(\"enter the value of n\"))\n",
    "k=1\n",
    "i=1\n",
    "while(i<=n):\n",
    "    j=1\n",
    "    while(j<=i):\n",
    "        print(\"{:3d}\".format(k),end=\" \")\n",
    "        j +=1\n",
    "        k +=1\n",
    "    print()\n",
    "    i+=1"
   ]
  },
  {
   "cell_type": "code",
   "execution_count": 43,
   "id": "0029f184-df03-4fb2-82d2-905772ebc29d",
   "metadata": {},
   "outputs": [
    {
     "name": "stdout",
     "output_type": "stream",
     "text": [
      "1\n",
      "12\n",
      "123\n",
      "1234\n",
      "12345\n",
      "12345\n",
      "1234\n",
      "123\n",
      "12\n",
      "1\n"
     ]
    }
   ],
   "source": [
    "i = 1\n",
    "while i <= 5:\n",
    "    j = 1\n",
    "    while j <= i:\n",
    "        print(j, end=\"\")\n",
    "        j += 1\n",
    "    print()\n",
    "    i += 1\n",
    "a = 5\n",
    "while a >= 1:\n",
    "    b = 1\n",
    "    while b <= a:\n",
    "        print(b, end=\"\")\n",
    "        b += 1\n",
    "    print()\n",
    "    a -= 1"
   ]
  },
  {
   "cell_type": "code",
   "execution_count": 41,
   "id": "b01cbacc-031c-4188-ba56-445541edb578",
   "metadata": {},
   "outputs": [
    {
     "name": "stdout",
     "output_type": "stream",
     "text": [
      "        1 \n",
      "        1 2 \n",
      "        1 2 3 \n",
      "        1 2 3 4 \n",
      "        1 2 3 4 5 \n",
      "      1 2 \n",
      "    1 2 3 \n",
      "  1 2 3 4 \n",
      "1 2 3 4 5 \n"
     ]
    }
   ],
   "source": [
    "i = 1\n",
    "delta = 8\n",
    "while i <= 5:\n",
    "    j = 1\n",
    "    print(delta*\" \",end=\"\")\n",
    "    while j <= i:\n",
    "        print(j, end=\" \")\n",
    "        j += 1\n",
    "    print()\n",
    "    i += 1\n",
    "i = 2\n",
    "while i <= 5:\n",
    "    j = 1\n",
    "    delta -= 2\n",
    "    print(delta*\" \",end=\"\")\n",
    "    while j <= i:\n",
    "        print(j, end=\" \")\n",
    "        j += 1\n",
    "    print()\n",
    "    i += 1"
   ]
  },
  {
   "cell_type": "code",
   "execution_count": 10,
   "id": "8b2d3cfe-83f3-4bbe-81dc-51df91a77fc4",
   "metadata": {},
   "outputs": [
    {
     "name": "stdout",
     "output_type": "stream",
     "text": [
      "[10, 20, 'GfG', 40, True]\n",
      "10\n",
      "20\n",
      "GfG\n",
      "40\n",
      "True\n",
      "<class 'str'>\n",
      "<class 'bool'>\n",
      "<class 'list'>\n",
      "my_list = ['p', 'r', 'o', 'g', 'r', 'a', 'm']\n",
      "my_list[2: 5] = ['o', 'g', 'r']\n",
      "updated list [10, 20, 'GfG', 40, True, 56]\n",
      "list updated ['p', 'r', 'o', 'g', 'r', 'a', 'm', 'mango']\n"
     ]
    }
   ],
   "source": [
    "# Creating a Python list with different data types\n",
    "a = [10, 20, \"GfG\", 40, True]\n",
    "\n",
    "print(a)\n",
    "\n",
    "# Accessing elements using indexing(index is the address of data stored in array,list,string,set,dictinory.)\n",
    "# range of index should be 0 to n-1\n",
    "print(a[0])  # 10\n",
    "print(a[1])  # 20\n",
    "print(a[2])  # \"GfG\"\n",
    "print(a[3])  # 40\n",
    "print(a[4])  # True\n",
    "\n",
    "# Checking types of elements\n",
    "print(type(a[2]))  # str\n",
    "print(type(a[4]))  # bool\n",
    "print(type(a))     # list\n",
    "\n",
    "# Slicing of list element\n",
    "my_list = ['p', 'r', 'o', 'g', 'r', 'a', 'm']\n",
    "print(\"my_list =\", my_list)\n",
    "print(\"my_list[2: 5] =\", my_list[2: 5])\n",
    "\n",
    "# Adding an element on list append :function\n",
    "a.append(56)\n",
    "my_list.append('mango')\n",
    "\n",
    "print(\"updated list\",a)\n",
    "print(\"list updated\",my_list)"
   ]
  },
  {
   "cell_type": "code",
   "execution_count": 3,
   "id": "e564434c-fe77-4e5d-a62a-429f6bc29ecc",
   "metadata": {},
   "outputs": [
    {
     "name": "stdout",
     "output_type": "stream",
     "text": [
      "[1, 2, 3, 4, 5]\n",
      "['apple', 'banana', 'cherry']\n",
      "[1, 'hello', 3.14, True]\n"
     ]
    }
   ],
   "source": [
    "# List of integers\n",
    "a = [1, 2, 3, 4, 5]\n",
    "\n",
    "# List of strings\n",
    "b = ['apple', 'banana', 'cherry']\n",
    "\n",
    "# Mixed data types\n",
    "c = [1, 'hello', 3.14, True]\n",
    "\n",
    "print(a)\n",
    "print(b)\n",
    "print(c)"
   ]
  },
  {
   "cell_type": "code",
   "execution_count": 5,
   "id": "da0b0e4f-00a7-4e1c-a6cd-30b020bc656c",
   "metadata": {},
   "outputs": [
    {
     "name": "stdout",
     "output_type": "stream",
     "text": [
      "[2, 2, 2, 2, 2]\n",
      "[0, 0, 0, 0, 0, 0, 0]\n"
     ]
    }
   ],
   "source": [
    "# Create a list [2, 2, 2, 2, 2]\n",
    "a = [2] * 5\n",
    "\n",
    "# Create a list [0, 0, 0, 0, 0, 0, 0]\n",
    "b = [0] * 7\n",
    "\n",
    "print(a)\n",
    "print(b)"
   ]
  },
  {
   "cell_type": "code",
   "execution_count": 3,
   "id": "6c6a5e76-a651-45de-b091-928ce78cc571",
   "metadata": {},
   "outputs": [
    {
     "name": "stdout",
     "output_type": "stream",
     "text": [
      "After append(10): [10]\n",
      "After insert(0, 5): [5, 10]\n",
      "After extend([15, 20, 25]): [5, 10, 15, 20, 25]\n",
      "After the remove an element: [10, 15, 20, 25]\n"
     ]
    }
   ],
   "source": [
    "# Initialize an empty list\n",
    "a = []\n",
    "\n",
    "# Adding 10 to end of list\n",
    "a.append(10)  \n",
    "print(\"After append(10):\", a)  \n",
    "\n",
    "# Inserting 5 at index 0\n",
    "a.insert(0, 5)\n",
    "print(\"After insert(0, 5):\", a) \n",
    "\n",
    "# Adding multiple elements  [15, 20, 25] at the end\n",
    "a.extend([15, 20, 25])  \n",
    "print(\"After extend([15, 20, 25]):\", a) \n",
    "\n",
    "# Remove an element from the list\n",
    "a.remove(5)\n",
    "print(\"After the remove an element:\",a)"
   ]
  },
  {
   "cell_type": "code",
   "execution_count": 9,
   "id": "a2393aab-66b9-4f16-a95a-9d5b2e3b32e1",
   "metadata": {},
   "outputs": [
    {
     "name": "stdout",
     "output_type": "stream",
     "text": [
      "[10, 25, 30, 40, 50]\n"
     ]
    }
   ],
   "source": [
    "a = [10, 20, 30, 40, 50]\n",
    "\n",
    "# Change the second element\n",
    "a[1] = 25 \n",
    "\n",
    "print(a)  "
   ]
  },
  {
   "cell_type": "code",
   "execution_count": 11,
   "id": "92717b7d-2a0e-40d3-9283-05615d5a5038",
   "metadata": {},
   "outputs": [
    {
     "name": "stdout",
     "output_type": "stream",
     "text": [
      "After remove(30): [10, 20, 40, 50]\n",
      "Popped element: 20\n",
      "After pop(1): [10, 40, 50]\n",
      "After del a[0]: [40, 50]\n"
     ]
    }
   ],
   "source": [
    "a = [10, 20, 30, 40, 50]\n",
    "\n",
    "# Removes the first occurrence of 30\n",
    "a.remove(30)  \n",
    "print(\"After remove(30):\", a)\n",
    "\n",
    "# Removes the element at index 1 (20)\n",
    "popped_val = a.pop(1)  \n",
    "print(\"Popped element:\", popped_val)\n",
    "print(\"After pop(1):\", a) \n",
    "\n",
    "# Deletes the first element (10)\n",
    "del a[0]  \n",
    "print(\"After del a[0]:\", a)  \n"
   ]
  },
  {
   "cell_type": "code",
   "execution_count": 13,
   "id": "d0d8bb97-9275-44cd-92df-193542a8a6e8",
   "metadata": {},
   "outputs": [
    {
     "name": "stdout",
     "output_type": "stream",
     "text": [
      "apple\n",
      "banana\n",
      "cherry\n"
     ]
    }
   ],
   "source": [
    "a = ['apple', 'banana', 'cherry']\n",
    "\n",
    "# Iterating over the list\n",
    "for item in a:\n",
    "    print(item)\n"
   ]
  },
  {
   "cell_type": "code",
   "execution_count": 15,
   "id": "2a8abe89-effd-4742-8b52-cad5673b66f3",
   "metadata": {},
   "outputs": [
    {
     "name": "stdout",
     "output_type": "stream",
     "text": [
      "6\n"
     ]
    }
   ],
   "source": [
    "matrix = [\n",
    "    [1, 2, 3],\n",
    "    [4, 5, 6],\n",
    "    [7, 8, 9]\n",
    "]\n",
    "\n",
    "# Access element at row 2, column 3\n",
    "print(matrix[1][2]) "
   ]
  },
  {
   "cell_type": "code",
   "execution_count": 17,
   "id": "b8899890-92c6-4a2f-8f59-aeca42bc9d7e",
   "metadata": {},
   "outputs": [
    {
     "name": "stdout",
     "output_type": "stream",
     "text": [
      "()\n",
      "('Geeks', 'For')\n",
      "(1, 2, 4, 5, 6)\n",
      "('G', 'e', 'e', 'k', 's')\n"
     ]
    }
   ],
   "source": [
    "# Creating an empty Tuple\n",
    "tup = ()\n",
    "print(tup)\n",
    "\n",
    "# Using String\n",
    "tup = ('Geeks', 'For')\n",
    "print(tup)\n",
    "\n",
    "# Using List\n",
    "li = [1, 2, 4, 5, 6]\n",
    "print(tuple(li))\n",
    "\n",
    "# Using Built-in Function\n",
    "tup = tuple('Geeks')\n",
    "print(tup)"
   ]
  },
  {
   "cell_type": "code",
   "execution_count": 19,
   "id": "55178112-58ec-4ff0-a4de-0ad5bb742c25",
   "metadata": {},
   "outputs": [
    {
     "name": "stdout",
     "output_type": "stream",
     "text": [
      "(5, 'Welcome', 7, 'Geeks')\n",
      "((0, 1, 2, 3), ('python', 'geek'))\n",
      "('Geeks', 'Geeks', 'Geeks')\n",
      "('Geeks',)\n",
      "(('Geeks',),)\n",
      "((('Geeks',),),)\n",
      "(((('Geeks',),),),)\n",
      "((((('Geeks',),),),),)\n"
     ]
    }
   ],
   "source": [
    "# Creating a Tuple with Mixed Datatype\n",
    "tup = (5, 'Welcome', 7, 'Geeks')\n",
    "print(tup)\n",
    "\n",
    "# Creating a Tuple with nested tuples\n",
    "tup1 = (0, 1, 2, 3)\n",
    "tup2 = ('python', 'geek')\n",
    "tup3 = (tup1, tup2)\n",
    "print(tup3)\n",
    "\n",
    "# Creating a Tuple with repetition\n",
    "tup1 = ('Geeks',) * 3\n",
    "print(tup1)\n",
    "\n",
    "# Creating a Tuple with the use of loop\n",
    "tup = ('Geeks')\n",
    "n = 5\n",
    "for i in range(int(n)):\n",
    "    tup = (tup,)\n",
    "    print(tup)"
   ]
  },
  {
   "cell_type": "code",
   "execution_count": 21,
   "id": "004e5e4c-dea0-45c4-b9b6-50dacb25c3b3",
   "metadata": {},
   "outputs": [
    {
     "name": "stdout",
     "output_type": "stream",
     "text": [
      "G\n",
      "('e', 'e', 'k')\n",
      "('G', 'e', 'e')\n",
      "Geeks\n",
      "For\n",
      "Geeks\n"
     ]
    }
   ],
   "source": [
    "# Accessing Tuple with Indexing\n",
    "tup = tuple(\"Geeks\")\n",
    "print(tup[0])\n",
    "\n",
    "# Accessing a range of elements using slicing\n",
    "print(tup[1:4])  \n",
    "print(tup[:3])\n",
    "\n",
    "# Tuple unpacking\n",
    "tup = (\"Geeks\", \"For\", \"Geeks\")\n",
    "\n",
    "# This line unpack values of Tuple1\n",
    "a, b, c = tup\n",
    "print(a)\n",
    "print(b)\n",
    "print(c)"
   ]
  },
  {
   "cell_type": "code",
   "execution_count": 23,
   "id": "6b4971b7-8922-4580-981a-eb27b5db5c85",
   "metadata": {},
   "outputs": [
    {
     "name": "stdout",
     "output_type": "stream",
     "text": [
      "(0, 1, 2, 3, 'Geeks', 'For', 'Geeks')\n"
     ]
    }
   ],
   "source": [
    "# Add two tuple's\n",
    "tup1 = (0, 1, 2, 3)\n",
    "tup2 = ('Geeks', 'For', 'Geeks')\n",
    "\n",
    "tup3 = tup1 + tup2\n",
    "print(tup3)"
   ]
  },
  {
   "cell_type": "code",
   "execution_count": 25,
   "id": "92101015-f31c-457b-b873-59591b3f3b66",
   "metadata": {},
   "outputs": [
    {
     "name": "stdout",
     "output_type": "stream",
     "text": [
      "('E', 'E', 'K', 'S', 'F', 'O', 'R', 'G', 'E', 'E', 'K', 'S')\n",
      "('S', 'K', 'E', 'E', 'G', 'R', 'O', 'F', 'S', 'K', 'E', 'E', 'G')\n",
      "('S', 'F', 'O', 'R', 'G')\n"
     ]
    }
   ],
   "source": [
    "# Slicing of a Tuple with Numbers\n",
    "tup = tuple('GEEKSFORGEEKS')\n",
    "\n",
    "# Removing First element\n",
    "print(tup[1:])\n",
    "\n",
    "# Reversing the Tuple\n",
    "print(tup[::-1])\n",
    "\n",
    "# Printing elements of a Range\n",
    "print(tup[4:9])"
   ]
  },
  {
   "cell_type": "code",
   "execution_count": 27,
   "id": "b43131db-9051-4f0e-9c11-db7cf5988767",
   "metadata": {},
   "outputs": [
    {
     "ename": "NameError",
     "evalue": "name 'tup' is not defined",
     "output_type": "error",
     "traceback": [
      "\u001b[1;31m---------------------------------------------------------------------------\u001b[0m",
      "\u001b[1;31mNameError\u001b[0m                                 Traceback (most recent call last)",
      "Cell \u001b[1;32mIn[27], line 6\u001b[0m\n\u001b[0;32m      3\u001b[0m tup \u001b[38;5;241m=\u001b[39m (\u001b[38;5;241m0\u001b[39m, \u001b[38;5;241m1\u001b[39m, \u001b[38;5;241m2\u001b[39m, \u001b[38;5;241m3\u001b[39m, \u001b[38;5;241m4\u001b[39m)\n\u001b[0;32m      4\u001b[0m \u001b[38;5;28;01mdel\u001b[39;00m tup\n\u001b[1;32m----> 6\u001b[0m \u001b[38;5;28mprint\u001b[39m(tup)\n",
      "\u001b[1;31mNameError\u001b[0m: name 'tup' is not defined"
     ]
    }
   ],
   "source": [
    "# Deleting a Tuple\n",
    "\n",
    "tup = (0, 1, 2, 3, 4)\n",
    "del tup\n",
    "\n",
    "print(tup)"
   ]
  },
  {
   "cell_type": "code",
   "execution_count": 29,
   "id": "42c1346a-d389-49ed-9ed2-925f37acb80f",
   "metadata": {},
   "outputs": [
    {
     "name": "stdout",
     "output_type": "stream",
     "text": [
      "{1: 'Geeks', 2: 'For', 3: 'Geeks'}\n",
      "{'a': 'Geeks', 'b': 'for', 'c': 'Geeks'}\n"
     ]
    }
   ],
   "source": [
    "# create dictionary using { }\n",
    "d1 = {1: 'Geeks', 2: 'For', 3: 'Geeks'}\n",
    "print(d1)\n",
    "\n",
    "# create dictionary using dict() constructor\n",
    "d2 = dict(a = \"Geeks\", b = \"for\", c = \"Geeks\")\n",
    "print(d2)"
   ]
  },
  {
   "cell_type": "code",
   "execution_count": 31,
   "id": "83d50f52-404c-4430-ad53-b6e98f7f122e",
   "metadata": {},
   "outputs": [
    {
     "name": "stdout",
     "output_type": "stream",
     "text": [
      "Alice\n",
      "Alice\n"
     ]
    }
   ],
   "source": [
    "d = { \"name\": \"Alice\", 1: \"Python\", (1, 2): [1,2,4] }\n",
    "\n",
    "# Access using key\n",
    "print(d[\"name\"])\n",
    "\n",
    "# Access using get()\n",
    "print(d.get(\"name\"))  \n"
   ]
  },
  {
   "cell_type": "code",
   "execution_count": 33,
   "id": "61d0b81e-fefc-42de-bb53-1399866006e2",
   "metadata": {},
   "outputs": [
    {
     "name": "stdout",
     "output_type": "stream",
     "text": [
      "{1: 'Python dict', 2: 'For', 3: 'Geeks', 'age': 22}\n"
     ]
    }
   ],
   "source": [
    "d = {1: 'Geeks', 2: 'For', 3: 'Geeks'}\n",
    "\n",
    "# Adding a new key-value pair\n",
    "d[\"age\"] = 22\n",
    "\n",
    "# Updating an existing value\n",
    "d[1] = \"Python dict\"\n",
    "\n",
    "print(d)"
   ]
  },
  {
   "cell_type": "code",
   "execution_count": 35,
   "id": "2e785369-96be-403c-b11c-30865dc5d14b",
   "metadata": {},
   "outputs": [
    {
     "name": "stdout",
     "output_type": "stream",
     "text": [
      "{1: 'Geeks', 2: 'For', 3: 'Geeks'}\n",
      "Geeks\n",
      "Key: 3, Value: Geeks\n",
      "{}\n"
     ]
    }
   ],
   "source": [
    "d = {1: 'Geeks', 2: 'For', 3: 'Geeks', 'age':22}\n",
    "\n",
    "# Using del to remove an item\n",
    "del d[\"age\"]\n",
    "print(d)\n",
    "\n",
    "# Using pop() to remove an item and return the value\n",
    "val = d.pop(1)\n",
    "print(val)\n",
    "\n",
    "# Using pop item to removes and returns\n",
    "# the last key-value pair.\n",
    "key, val = d.popitem()\n",
    "print(f\"Key: {key}, Value: {val}\")\n",
    "\n",
    "# Clear all items from the dictionary\n",
    "d.clear()\n",
    "print(d)"
   ]
  },
  {
   "cell_type": "code",
   "execution_count": 37,
   "id": "bbd1befd-e238-4631-a214-63300fa70f2e",
   "metadata": {},
   "outputs": [
    {
     "name": "stdout",
     "output_type": "stream",
     "text": [
      "1\n",
      "2\n",
      "age\n",
      "Geeks\n",
      "For\n",
      "22\n",
      "1: Geeks\n",
      "2: For\n",
      "age: 22\n"
     ]
    }
   ],
   "source": [
    "d = {1: 'Geeks', 2: 'For', 'age':22}\n",
    "# Iterate over keys\n",
    "for key in d:\n",
    "    print(key)\n",
    "\n",
    "# Iterate over values\n",
    "for value in d.values():\n",
    "    print(value)\n",
    "# Iterate over key-value pairs\n",
    "for key, value in d.items():\n",
    "    print(f\"{key}: {value}\")"
   ]
  },
  {
   "cell_type": "code",
   "execution_count": 2,
   "id": "0a8b4820-3ca4-46fd-be11-fa52e1b00943",
   "metadata": {},
   "outputs": [
    {
     "name": "stdout",
     "output_type": "stream",
     "text": [
      "{1: 'Geeks', 2: 'For', 3: {'A': 'Welcome', 'B': 'To', 'C': 'Geeks'}}\n",
      "{'A': 'Welcome', 'B': 'To', 'C': 'Geeks'}\n"
     ]
    }
   ],
   "source": [
    "# Nested dictionary \n",
    "d = {1: 'Geeks', 2: 'For',\n",
    "        3: {'A': 'Welcome', 'B': 'To', 'C': 'Geeks'}}\n",
    "print(d)\n",
    "print(d[3])"
   ]
  },
  {
   "cell_type": "code",
   "execution_count": 4,
   "id": "1fb45583-4c4b-4a37-a062-7c1594bcaebb",
   "metadata": {},
   "outputs": [
    {
     "name": "stdout",
     "output_type": "stream",
     "text": [
      "True\n",
      "False\n",
      "True\n"
     ]
    }
   ],
   "source": [
    "# Dictionary Membership Test\n",
    "file_types = {\n",
    "    \".txt\": \"Text File\",\n",
    "    \".pdf\": \"PDF Document\",\n",
    "    \".jpg\": \"JPEG Image\",\n",
    "}\n",
    "# use of in and not in operators\n",
    "print(\".pdf\" in file_types)       # Output: True\n",
    "print(\".mp3\" in file_types)       # Output: False\n",
    "print(\".mp3\" not in file_types)   # Output: True"
   ]
  },
  {
   "cell_type": "code",
   "execution_count": 6,
   "id": "a43164be-7a33-47ee-baf1-dd4059090cb3",
   "metadata": {},
   "outputs": [
    {
     "name": "stdout",
     "output_type": "stream",
     "text": [
      "2\n",
      "3\n",
      "0\n"
     ]
    }
   ],
   "source": [
    "# Length of dictionary\n",
    "\n",
    "country_capitals = {\"England\": \"London\", \"Italy\": \"Rome\"}\n",
    "\n",
    "# get dictionary's length\n",
    "print(len(country_capitals))   # Output: 2\n",
    "\n",
    "numbers = {10: \"ten\", 20: \"twenty\", 30: \"thirty\"}\n",
    "\n",
    "# get dictionary's length\n",
    "print(len(numbers))            # Output: 3\n",
    "\n",
    "countries = {}\n",
    "\n",
    "# get dictionary's length\n",
    "print(len(countries))          # Output: 0"
   ]
  },
  {
   "cell_type": "code",
   "execution_count": 4,
   "id": "5d6f64f1-229e-469b-82d5-010c25796ded",
   "metadata": {},
   "outputs": [
    {
     "name": "stdout",
     "output_type": "stream",
     "text": [
      "{10, 50, 20}\n",
      "<class 'set'>\n"
     ]
    }
   ],
   "source": [
    "s = {10, 50, 20}\n",
    "print(s)\n",
    "print(type(s))"
   ]
  },
  {
   "cell_type": "code",
   "execution_count": 43,
   "id": "36718bc1-83b4-42c9-962a-492f3e7cce31",
   "metadata": {},
   "outputs": [
    {
     "name": "stdout",
     "output_type": "stream",
     "text": [
      "{'b', 'a', 'c'}\n",
      "{'d', 'b', 'a', 'c'}\n"
     ]
    }
   ],
   "source": [
    "# typecasting list to set\n",
    "s = set([\"a\", \"b\", \"c\"])\n",
    "print(s)\n",
    "\n",
    "# Adding element to the set\n",
    "s.add(\"d\")\n",
    "print(s)"
   ]
  },
  {
   "cell_type": "code",
   "execution_count": 45,
   "id": "cb83a567-a468-4870-904d-bf6ad8b6e996",
   "metadata": {},
   "outputs": [
    {
     "name": "stdout",
     "output_type": "stream",
     "text": [
      "{'Geeks', 'for'}\n"
     ]
    },
    {
     "ename": "TypeError",
     "evalue": "'set' object does not support item assignment",
     "output_type": "error",
     "traceback": [
      "\u001b[1;31m---------------------------------------------------------------------------\u001b[0m",
      "\u001b[1;31mTypeError\u001b[0m                                 Traceback (most recent call last)",
      "Cell \u001b[1;32mIn[45], line 10\u001b[0m\n\u001b[0;32m      7\u001b[0m \u001b[38;5;28mprint\u001b[39m(s)\n\u001b[0;32m      9\u001b[0m \u001b[38;5;66;03m# values of a set cannot be changed\u001b[39;00m\n\u001b[1;32m---> 10\u001b[0m s[\u001b[38;5;241m1\u001b[39m] \u001b[38;5;241m=\u001b[39m \u001b[38;5;124m\"\u001b[39m\u001b[38;5;124mHello\u001b[39m\u001b[38;5;124m\"\u001b[39m\n\u001b[0;32m     11\u001b[0m \u001b[38;5;28mprint\u001b[39m(s)\n",
      "\u001b[1;31mTypeError\u001b[0m: 'set' object does not support item assignment"
     ]
    }
   ],
   "source": [
    "# Python program to demonstrate that\n",
    "# a set cannot have duplicate values \n",
    "# and we cannot change its items\n",
    "\n",
    "# a set cannot have duplicate values\n",
    "s = {\"Geeks\", \"for\", \"Geeks\"}\n",
    "print(s)\n",
    "\n",
    "# values of a set cannot be changed\n",
    "s[1] = \"Hello\"\n",
    "print(s)"
   ]
  },
  {
   "cell_type": "code",
   "execution_count": 47,
   "id": "3fe61ca5-b309-4f14-ad1e-9812da445bfc",
   "metadata": {},
   "outputs": [
    {
     "name": "stdout",
     "output_type": "stream",
     "text": [
      "{True, 'for', 52.7, 'Geeks', 10}\n"
     ]
    }
   ],
   "source": [
    "# Python example demonstrate that a set\n",
    "# can store heterogeneous elements\n",
    "s = {\"Geeks\", \"for\", 10, 52.7, True}\n",
    "print(s)"
   ]
  },
  {
   "cell_type": "code",
   "execution_count": 49,
   "id": "e22ca4d7-f87f-4ab0-bcaa-6c722e6547cb",
   "metadata": {},
   "outputs": [
    {
     "name": "stdout",
     "output_type": "stream",
     "text": [
      "Normal Set\n",
      "{'b', 'a', 'c'}\n",
      "\n",
      "Frozen Set\n",
      "frozenset({'f', 'g', 'e'})\n"
     ]
    }
   ],
   "source": [
    "# Python program to demonstrate differences\n",
    "# between normal and frozen set\n",
    "\n",
    "# Same as {\"a\", \"b\",\"c\"}\n",
    "s = set([\"a\", \"b\",\"c\"])\n",
    "\n",
    "print(\"Normal Set\")\n",
    "print(s)\n",
    "\n",
    "# A frozen set\n",
    "fs = frozenset([\"e\", \"f\", \"g\"])\n",
    "\n",
    "print(\"\\nFrozen Set\")\n",
    "print(fs)\n",
    "\n",
    "# Uncommenting below line would cause error as\n",
    "# we are trying to add element to a frozen set\n",
    "# fs.add(\"h\")"
   ]
  },
  {
   "cell_type": "code",
   "execution_count": 51,
   "id": "5b36194e-6333-4097-be18-bf01966e44d2",
   "metadata": {},
   "outputs": [
    {
     "name": "stdout",
     "output_type": "stream",
     "text": [
      "People: {'Idrish', 'Jay', 'Archi'}\n",
      "\n",
      "Set after adding element: {1, 2, 3, 4, 5, 'Idrish', 'Jay', 'Archi', 'Daxit'}\n"
     ]
    }
   ],
   "source": [
    "# A Python program to\n",
    "# demonstrate adding elements\n",
    "# in a set\n",
    "\n",
    "# Creating a Set\n",
    "people = {\"Jay\", \"Idrish\", \"Archi\"}\n",
    "\n",
    "print(\"People:\", end = \" \")\n",
    "print(people)\n",
    "\n",
    "# This will add Daxit\n",
    "# in the set\n",
    "people.add(\"Daxit\")\n",
    "\n",
    "# Adding elements to the\n",
    "# set using iterator\n",
    "for i in range(1, 6):\n",
    "    people.add(i)\n",
    "\n",
    "print(\"\\nSet after adding element:\", end = \" \")\n",
    "print(people)"
   ]
  },
  {
   "cell_type": "code",
   "execution_count": 53,
   "id": "c4af976c-80a8-420d-8fbb-f9174be82883",
   "metadata": {},
   "outputs": [
    {
     "name": "stdout",
     "output_type": "stream",
     "text": [
      "Union using union() function\n",
      "{'Jay', 'Karan', 'Idrish', 'Arjun', 'Archil'}\n",
      "\n",
      "Union using '|' operator\n",
      "{'Jay', 'Raju', 'Idrish', 'Archil', 'Deepanshu'}\n"
     ]
    }
   ],
   "source": [
    "# Python Program to\n",
    "# demonstrate union of\n",
    "# two sets\n",
    "\n",
    "people = {\"Jay\", \"Idrish\", \"Archil\"}\n",
    "vampires = {\"Karan\", \"Arjun\"}\n",
    "dracula = {\"Deepanshu\", \"Raju\"}\n",
    "\n",
    "# Union using union()\n",
    "# function\n",
    "population = people.union(vampires)\n",
    "\n",
    "print(\"Union using union() function\")\n",
    "print(population)\n",
    "\n",
    "# Union using \"|\"\n",
    "# operator\n",
    "population = people|dracula\n",
    "\n",
    "print(\"\\nUnion using '|' operator\")\n",
    "print(population)\n",
    "\n"
   ]
  },
  {
   "cell_type": "code",
   "execution_count": 55,
   "id": "efcee97a-f3ef-4e1d-9778-3533cae30777",
   "metadata": {},
   "outputs": [
    {
     "name": "stdout",
     "output_type": "stream",
     "text": [
      "Intersection using intersection() function\n",
      "{3, 4}\n",
      "\n",
      "Intersection using '&' operator\n",
      "{3, 4}\n"
     ]
    }
   ],
   "source": [
    "# Python program to\n",
    "# demonstrate intersection\n",
    "# of two sets\n",
    "\n",
    "set1 = set()\n",
    "set2 = set()\n",
    "\n",
    "for i in range(5):\n",
    "    set1.add(i)\n",
    "\n",
    "for i in range(3,9):\n",
    "    set2.add(i)\n",
    "\n",
    "# Intersection using\n",
    "# intersection() function\n",
    "set3 = set1.intersection(set2)\n",
    "\n",
    "print(\"Intersection using intersection() function\")\n",
    "print(set3)\n",
    "\n",
    "# Intersection using\n",
    "# \"&\" operator\n",
    "set3 = set1 & set2\n",
    "\n",
    "print(\"\\nIntersection using '&' operator\")\n",
    "print(set3)"
   ]
  },
  {
   "cell_type": "code",
   "execution_count": 57,
   "id": "d149317b-1328-4f97-b6e9-247e1ba0ace8",
   "metadata": {},
   "outputs": [
    {
     "name": "stdout",
     "output_type": "stream",
     "text": [
      " Difference of two sets using difference() function\n",
      "{0, 1, 2}\n",
      "\n",
      "Difference of two sets using '-' operator\n",
      "{0, 1, 2}\n"
     ]
    }
   ],
   "source": [
    "# Python program to\n",
    "# demonstrate difference\n",
    "# of two sets\n",
    "\n",
    "set1 = set()\n",
    "set2 = set()\n",
    "\n",
    "for i in range(5):\n",
    "    set1.add(i)\n",
    "\n",
    "for i in range(3,9):\n",
    "    set2.add(i)\n",
    "\n",
    "# Difference of two sets\n",
    "# using difference() function\n",
    "set3 = set1.difference(set2)\n",
    "\n",
    "print(\" Difference of two sets using difference() function\")\n",
    "print(set3)\n",
    "\n",
    "# Difference of two sets\n",
    "# using '-' operator\n",
    "set3 = set1 - set2\n",
    "\n",
    "print(\"\\nDifference of two sets using '-' operator\")\n",
    "print(set3)"
   ]
  },
  {
   "cell_type": "code",
   "execution_count": 59,
   "id": "e13f817a-0773-4bba-923e-ecebe2a448b8",
   "metadata": {},
   "outputs": [
    {
     "name": "stdout",
     "output_type": "stream",
     "text": [
      "Initial set\n",
      "{1, 2, 3, 4, 5, 6}\n",
      "\n",
      "Set after using clear() function\n",
      "set()\n"
     ]
    }
   ],
   "source": [
    "# Python program to\n",
    "# demonstrate clearing\n",
    "# of set\n",
    "\n",
    "set1 = {1,2,3,4,5,6}\n",
    "\n",
    "print(\"Initial set\")\n",
    "print(set1)\n",
    "\n",
    "# This method will remove\n",
    "# all the elements of the set\n",
    "set1.clear()\n",
    "\n",
    "print(\"\\nSet after using clear() function\")\n",
    "print(set1)"
   ]
  },
  {
   "cell_type": "code",
   "execution_count": 10,
   "id": "0a45ce1d-9b25-4d41-be40-525c86929be5",
   "metadata": {},
   "outputs": [
    {
     "ename": "ModuleNotFoundError",
     "evalue": "No module named 'pygame'",
     "output_type": "error",
     "traceback": [
      "\u001b[1;31m---------------------------------------------------------------------------\u001b[0m",
      "\u001b[1;31mModuleNotFoundError\u001b[0m                       Traceback (most recent call last)",
      "Cell \u001b[1;32mIn[10], line 6\u001b[0m\n\u001b[0;32m      4\u001b[0m \u001b[38;5;28;01mimport\u001b[39;00m \u001b[38;5;21;01mdatetime\u001b[39;00m\n\u001b[0;32m      5\u001b[0m \u001b[38;5;28;01mimport\u001b[39;00m \u001b[38;5;21;01mtime\u001b[39;00m\n\u001b[1;32m----> 6\u001b[0m \u001b[38;5;28;01mfrom\u001b[39;00m \u001b[38;5;21;01mpygame\u001b[39;00m \u001b[38;5;28;01mimport\u001b[39;00m mixer\n\u001b[0;32m      7\u001b[0m \u001b[38;5;28;01mfrom\u001b[39;00m \u001b[38;5;21;01mtkinter\u001b[39;00m \u001b[38;5;28;01mimport\u001b[39;00m messagebox\n\u001b[0;32m      9\u001b[0m \u001b[38;5;66;03m# Initializing the mixer\u001b[39;00m\n",
      "\u001b[1;31mModuleNotFoundError\u001b[0m: No module named 'pygame'"
     ]
    }
   ],
   "source": [
    "# Importing the libraries\n",
    "from future.moves import tkinter\n",
    "import tkinter as Tk\n",
    "import datetime\n",
    "import time\n",
    "from pygame import mixer\n",
    "from tkinter import messagebox\n",
    "\n",
    "# Initializing the mixer\n",
    "mixer.init()\n",
    "\n",
    "# Creating the window\n",
    "root = tkinter.Tk()\n",
    "root.title(\"Alarm Clock\")\n",
    "root.geometry(\"550x330\")\n",
    "\n",
    "# variable to manage value of the widget\n",
    "alarmtime = tkinter.StringVar()\n",
    "message = tkinter.StringVar()\n",
    "\n",
    "# Label widget\n",
    "head = tkinter.Label(root, text=\"Alarm Clock\", font=('comic sans', 20))\n",
    "head.grid(row=0, columnspan=3, pady=10)\n",
    "\n",
    "\n",
    "\n",
    "# Alarm functionality\n",
    "def alarm():\n",
    "    a = alarmtime.get()\n",
    "\n",
    "    # getting the current time\n",
    "    alarm_t = a\n",
    "    Current_Time = time.strftime(\"%H:%M\")\n",
    "\n",
    "    # Changing the Current time\n",
    "    while alarm_t != Current_Time:\n",
    "        Current_Time = time.strftime(\"%H:%M\")\n",
    "\n",
    "    # Play alarm sound\n",
    "    if alarm_t == Current_Time:\n",
    "        mixer.music.load(\"sound.wav\")\n",
    "        mixer.music.play()\n",
    "        msg = messagebox.showinfo('Info', f'{message.get()}')\n",
    "        if msg == 'ok':\n",
    "            mixer.stop()\n",
    "\n",
    "\n",
    "# To display clock Image\n",
    "clockimg = tkinter.PhotoImage(file=\"img_61.png\")\n",
    "\n",
    "# Label widget for image\n",
    "img = tkinter.Label(root, image=clockimg)\n",
    "img.grid(rowspan=5, column=0)\n",
    "\n",
    "# Label widget for time input\n",
    "input_time = tkinter.Label(root, text=\"Input time\", font=('comic sans', 15))\n",
    "input_time.grid(row=1, column=1)\n",
    "\n",
    "# Entry widget\n",
    "altime = tkinter.Entry(root, textvariable=alarmtime, font=('comic sans', 15), width=6)\n",
    "altime.grid(row=1, column=2)\n",
    "\n",
    "# Label widget for message\n",
    "msg = tkinter.Label(root, text=\"Message\", font=('comic sans', 15))\n",
    "msg.grid(row=2, column=1, columnspan=2)\n",
    "\n",
    "# Entry widget\n",
    "msg_input = tkinter.Entry(root, textvariable=message, font=('comic sans', 15))\n",
    "msg_input.grid(row=3, column=1, columnspan=2)\n",
    "\n",
    "# Button widget\n",
    "submit = tkinter.Button(root, text=\"Submit\", font=('comic sans', 15))\n",
    "submit.grid(row=4, column=1, columnspan=2)\n",
    "\n",
    "# Event loop\n",
    "root.mainloop()\n"
   ]
  },
  {
   "cell_type": "code",
   "execution_count": 2,
   "id": "97fb184c-4e96-4d69-a4e9-b9197b943642",
   "metadata": {},
   "outputs": [
    {
     "name": "stdout",
     "output_type": "stream",
     "text": [
      "Sum: 5\n",
      "Sum: 10\n",
      "Sum: 15\n"
     ]
    }
   ],
   "source": [
    "def add_numbers( a = 7,  b = 8):\n",
    "    sum = a + b\n",
    "    print('Sum:', sum)\n",
    "\n",
    "\n",
    "# function call with two arguments\n",
    "add_numbers(2, 3)\n",
    "\n",
    "#  function call with one argument\n",
    "add_numbers(a = 2)\n",
    "\n",
    "# function call with no arguments\n",
    "add_numbers()"
   ]
  },
  {
   "cell_type": "code",
   "execution_count": 4,
   "id": "5eb36bf5-403a-497a-b423-224655263d22",
   "metadata": {},
   "outputs": [
    {
     "name": "stdout",
     "output_type": "stream",
     "text": [
      "First Name: Eric\n",
      "Last Name: Cartman\n"
     ]
    }
   ],
   "source": [
    "def display_info(first_name, last_name):\n",
    "    print('First Name:', first_name)\n",
    "    print('Last Name:', last_name)\n",
    "\n",
    "display_info(last_name = 'Cartman', first_name = 'Eric')"
   ]
  },
  {
   "cell_type": "code",
   "execution_count": 8,
   "id": "e863d4b4-f6a3-43a3-a393-014a4c32b8e3",
   "metadata": {},
   "outputs": [
    {
     "name": "stdout",
     "output_type": "stream",
     "text": [
      "Sum =  6\n",
      "Sum =  13\n"
     ]
    }
   ],
   "source": [
    "# program to find sum of multiple numbers (Arbitrary Arguments)\n",
    "\n",
    "def find_sum(*numbers):\n",
    "    result = 0\n",
    "    \n",
    "    for num in numbers:\n",
    "        result = result + num\n",
    "    \n",
    "    print(\"Sum = \", result)\n",
    "\n",
    "# function call with 3 arguments\n",
    "find_sum(1, 2, 3)\n",
    "\n",
    "# function call with 2 arguments\n",
    "find_sum(4, 9)\n",
    "\n"
   ]
  },
  {
   "cell_type": "code",
   "execution_count": 10,
   "id": "6a0b67ae-74bd-4352-8f4f-293c4f8dd85d",
   "metadata": {},
   "outputs": [
    {
     "name": "stdout",
     "output_type": "stream",
     "text": [
      "Local Hello\n"
     ]
    },
    {
     "ename": "NameError",
     "evalue": "name 'message' is not defined",
     "output_type": "error",
     "traceback": [
      "\u001b[1;31m---------------------------------------------------------------------------\u001b[0m",
      "\u001b[1;31mNameError\u001b[0m                                 Traceback (most recent call last)",
      "Cell \u001b[1;32mIn[10], line 12\u001b[0m\n\u001b[0;32m      8\u001b[0m greet()\n\u001b[0;32m     10\u001b[0m \u001b[38;5;66;03m# try to access message variable \u001b[39;00m\n\u001b[0;32m     11\u001b[0m \u001b[38;5;66;03m# outside greet() function\u001b[39;00m\n\u001b[1;32m---> 12\u001b[0m \u001b[38;5;28mprint\u001b[39m(message)\n",
      "\u001b[1;31mNameError\u001b[0m: name 'message' is not defined"
     ]
    }
   ],
   "source": [
    "def greet():\n",
    "\n",
    "    # local variable\n",
    "    message = 'Hello'\n",
    "    \n",
    "    print('Local', message)\n",
    "\n",
    "greet()\n",
    "\n",
    "# try to access message variable \n",
    "# outside greet() function\n",
    "print(message)"
   ]
  },
  {
   "cell_type": "code",
   "execution_count": 12,
   "id": "8bdc43b2-862d-47ec-8c8b-7dc74b04c9c3",
   "metadata": {},
   "outputs": [
    {
     "name": "stdout",
     "output_type": "stream",
     "text": [
      "Local Hello\n",
      "Global Hello\n"
     ]
    }
   ],
   "source": [
    "# declare global variable\n",
    "message = 'Hello'\n",
    "\n",
    "def greet():\n",
    "    # declare local variable\n",
    "    print('Local', message)\n",
    "\n",
    "greet()\n",
    "print('Global', message)"
   ]
  },
  {
   "cell_type": "code",
   "execution_count": 14,
   "id": "630eec15-c593-4412-8608-4bc1338b3e4c",
   "metadata": {},
   "outputs": [
    {
     "name": "stdout",
     "output_type": "stream",
     "text": [
      "inner: nonlocal\n",
      "outer: nonlocal\n"
     ]
    }
   ],
   "source": [
    "# outside function \n",
    "def outer():\n",
    "    message = 'local'\n",
    "\n",
    "    # nested function  \n",
    "    def inner():\n",
    "\n",
    "        # declare nonlocal variable\n",
    "        nonlocal message\n",
    "\n",
    "        message = 'nonlocal'\n",
    "        print(\"inner:\", message)\n",
    "\n",
    "    inner()\n",
    "    print(\"outer:\", message)\n",
    "\n",
    "outer()\n"
   ]
  },
  {
   "cell_type": "code",
   "execution_count": 2,
   "id": "dace062a-c8ac-4441-96bb-c747fca82153",
   "metadata": {},
   "outputs": [],
   "source": [
    "# questions = 9,19,20,27,29,34"
   ]
  },
  {
   "cell_type": "code",
   "execution_count": 4,
   "id": "43417304-f06c-44a7-bc59-df17ee720198",
   "metadata": {},
   "outputs": [
    {
     "name": "stdin",
     "output_type": "stream",
     "text": [
      "Enter the value of a: 1\n",
      "Enter the value of b: 4\n",
      "Enter the value of c: 8\n"
     ]
    },
    {
     "name": "stdout",
     "output_type": "stream",
     "text": [
      "Root 1:-2.0 + 2.0i\n",
      "Root 2:-2.0 - 2.0i\n"
     ]
    }
   ],
   "source": [
    "import math\n",
    "a= float(input(\"Enter the value of a:\"))\n",
    "b= float(input(\"Enter the value of b:\"))\n",
    "c= float(input(\"Enter the value of c:\"))\n",
    "discriminant =b**2 - 4*a*c\n",
    "if discriminant > 0:\n",
    "    root1 = (-b + math.sqrt(discriminant)) / (2*a)\n",
    "    root2= (-b - math.sqrt(discriminant)) / (2*a)\n",
    "    print(f\"Root 1:{root1}\")\n",
    "    print(f\"Root 2:{root2}\")\n",
    "elif discriminant == 0:\n",
    "    root =  -b / (2*a)\n",
    "    print(f\"Root:{root}\")\n",
    "else:\n",
    "    real_part =  -b / (2*a)\n",
    "    imaginary_part = math.sqrt(abs(discriminant)) / (2*a)\n",
    "    print(f\"Root 1:{real_part} + {imaginary_part}i\")\n",
    "    print(f\"Root 2:{real_part} - {imaginary_part}i\")"
   ]
  },
  {
   "cell_type": "code",
   "execution_count": 10,
   "id": "a02ed38a-24c6-4766-932a-3862547f6311",
   "metadata": {},
   "outputs": [
    {
     "name": "stdin",
     "output_type": "stream",
     "text": [
      "Enter a number 9474\n"
     ]
    },
    {
     "name": "stdout",
     "output_type": "stream",
     "text": [
      "9474 is an Armstrong number.\n"
     ]
    }
   ],
   "source": [
    "num = int(input(\"Enter a number\"))\n",
    "num_str = str(num)\n",
    "num_digits = len(num_str)\n",
    "sum_of_powers = 0\n",
    "temp_num = num\n",
    "while temp_num > 0:\n",
    "    digit = temp_num % 10\n",
    "    sum_of_powers += digit ** num_digits\n",
    "    temp_num //=10\n",
    "if sum_of_powers ==num:\n",
    "    print(f\"{num} is an Armstrong number.\")\n",
    "else:\n",
    "    print(f\"{num} is not an Armstrong number.\")"
   ]
  },
  {
   "cell_type": "code",
   "execution_count": 14,
   "id": "6be480e4-41a8-4ef2-a141-1c2e3eda881c",
   "metadata": {},
   "outputs": [
    {
     "name": "stdin",
     "output_type": "stream",
     "text": [
      "Enter the lower limit of the interval: 10\n",
      "Enter the upper limit of the interval: 1000\n"
     ]
    },
    {
     "name": "stdout",
     "output_type": "stream",
     "text": [
      "153\n",
      "370\n",
      "371\n",
      "407\n"
     ]
    }
   ],
   "source": [
    "lower = int(input(\"Enter the lower limit of the interval:\"))\n",
    "upper = int(input(\"Enter the upper limit of the interval:\"))\n",
    "for num in range(lower, upper + 1):\n",
    "    order = len(str(num))\n",
    "    temp_num = num\n",
    "    sum = 0\n",
    "    while temp_num > 0:\n",
    "        digit = temp_num % 10\n",
    "        sum += digit ** order\n",
    "        temp_num //=10\n",
    "    if num== sum:\n",
    "        print(num)"
   ]
  },
  {
   "cell_type": "code",
   "execution_count": 16,
   "id": "5dd8ebf5-8770-4d6b-b901-c917231bd329",
   "metadata": {},
   "outputs": [
    {
     "name": "stdin",
     "output_type": "stream",
     "text": [
      "Enter the number of terms (greater than 0); 8\n"
     ]
    },
    {
     "name": "stdout",
     "output_type": "stream",
     "text": [
      "Fibonacci sequence:\n",
      "0\n",
      "1\n",
      "1\n",
      "2\n",
      "3\n",
      "5\n",
      "8\n",
      "13\n"
     ]
    }
   ],
   "source": [
    "def recur_fibo(n):\n",
    "    if n <= 1:\n",
    "        return n\n",
    "    else:\n",
    "        return(recur_fibo(n-1) + recur_fibo(n-2))\n",
    "nterms = int(input(\"Enter the number of terms (greater than 0);\"))\n",
    "if nterms <= 0:\n",
    "    print(\"Please enter a positive integer\")\n",
    "else:\n",
    "    print(\"Fibonacci sequence:\")\n",
    "    for i in range(nterms):\n",
    "        print(recur_fibo(i))"
   ]
  },
  {
   "cell_type": "code",
   "execution_count": 18,
   "id": "4955b323-88d8-45ab-b6a9-386921ce4360",
   "metadata": {},
   "outputs": [
    {
     "name": "stdout",
     "output_type": "stream",
     "text": [
      "Original Array: [1, 2, 3, 4, 5]\n",
      "Rotated Array:  Invalid rotation value\n"
     ]
    }
   ],
   "source": [
    "def rotate_array(arr, d):\n",
    "    n = len(arr)\n",
    "    if d < 0 or d<=n:\n",
    "        return \" Invalid rotation value\"\n",
    "    rotated_arr = [0] * n\n",
    "    for i in range(n):\n",
    "        rotated_arr[i] = arr[(i + d) % n]\n",
    "    return ratated_arr\n",
    "arr = [1, 2, 3, 4, 5]\n",
    "d = 2\n",
    "result = rotate_array(arr,d)\n",
    "print(\"Original Array:\", arr)\n",
    "print(\"Rotated Array:\",result)"
   ]
  },
  {
   "cell_type": "code",
   "execution_count": 2,
   "id": "6e77ca78-d555-49d3-840f-53b92e1ced39",
   "metadata": {},
   "outputs": [
    {
     "name": "stdout",
     "output_type": "stream",
     "text": [
      "Python\n",
      "I love Python.\n"
     ]
    }
   ],
   "source": [
    "# create string type variables\n",
    "\n",
    "name = \"Python\"\n",
    "print(name)\n",
    "\n",
    "message = \"I love Python.\"\n",
    "print(message)"
   ]
  },
  {
   "cell_type": "code",
   "execution_count": 4,
   "id": "ff6b7aca-48bf-4c4d-ab1c-4cf46fdeb983",
   "metadata": {},
   "outputs": [
    {
     "name": "stdout",
     "output_type": "stream",
     "text": [
      "e\n",
      "e\n",
      "ell\n"
     ]
    }
   ],
   "source": [
    "greet = 'hello'\n",
    "\n",
    "# access 1st index element\n",
    "print(greet[1]) # \"e\"\n",
    "\n",
    "# access 4th last element\n",
    "print(greet[-4]) # \"e\"\n",
    "\n",
    "# access character from 1st index to 3rd index\n",
    "print(greet[1:4])  # \"ell\""
   ]
  },
  {
   "cell_type": "code",
   "execution_count": 6,
   "id": "361d8779-e62b-4a11-bb05-c85358725b7a",
   "metadata": {},
   "outputs": [
    {
     "ename": "TypeError",
     "evalue": "'str' object does not support item assignment",
     "output_type": "error",
     "traceback": [
      "\u001b[1;31m---------------------------------------------------------------------------\u001b[0m",
      "\u001b[1;31mTypeError\u001b[0m                                 Traceback (most recent call last)",
      "Cell \u001b[1;32mIn[6], line 2\u001b[0m\n\u001b[0;32m      1\u001b[0m message \u001b[38;5;241m=\u001b[39m \u001b[38;5;124m'\u001b[39m\u001b[38;5;124mHola Amigos\u001b[39m\u001b[38;5;124m'\u001b[39m\n\u001b[1;32m----> 2\u001b[0m message[\u001b[38;5;241m0\u001b[39m] \u001b[38;5;241m=\u001b[39m \u001b[38;5;124m'\u001b[39m\u001b[38;5;124mH\u001b[39m\u001b[38;5;124m'\u001b[39m\n\u001b[0;32m      3\u001b[0m \u001b[38;5;28mprint\u001b[39m(message)\n\u001b[0;32m      5\u001b[0m \u001b[38;5;66;03m# assign new string to message variable\u001b[39;00m\n",
      "\u001b[1;31mTypeError\u001b[0m: 'str' object does not support item assignment"
     ]
    }
   ],
   "source": [
    "message = 'Hola Amigos'\n",
    "message[0] = 'H'\n",
    "print(message)\n",
    "\n",
    "# assign new string to message variable\n",
    "message = 'Hello Friends'\n",
    "\n",
    "print(message); # prints \"Hello Friends\""
   ]
  },
  {
   "cell_type": "code",
   "execution_count": 8,
   "id": "3463171b-c30d-491e-ae4e-c987ca5ffcf2",
   "metadata": {},
   "outputs": [
    {
     "name": "stdout",
     "output_type": "stream",
     "text": [
      "\n",
      "Never gonna give you up\n",
      "Never gonna let you down\n",
      "\n"
     ]
    }
   ],
   "source": [
    "# multiline string \n",
    "message = \"\"\"\n",
    "Never gonna give you up\n",
    "Never gonna let you down\n",
    "\"\"\"\n",
    "\n",
    "print(message)"
   ]
  },
  {
   "cell_type": "code",
   "execution_count": 10,
   "id": "89235c45-cfd9-47f8-83a0-1b990f09e5c0",
   "metadata": {},
   "outputs": [
    {
     "name": "stdout",
     "output_type": "stream",
     "text": [
      "False\n",
      "True\n"
     ]
    }
   ],
   "source": [
    "str1 = \"Hello, world!\"\n",
    "str2 = \"I love Swift.\"\n",
    "str3 = \"Hello, world!\"\n",
    "\n",
    "# compare str1 and str2\n",
    "print(str1 == str2)\n",
    "\n",
    "# compare str1 and str3\n",
    "print(str1 == str3)\n"
   ]
  },
  {
   "cell_type": "code",
   "execution_count": 12,
   "id": "ae6b3edd-b6f9-4f76-8b91-9ba33c3632f6",
   "metadata": {},
   "outputs": [
    {
     "name": "stdout",
     "output_type": "stream",
     "text": [
      "Hello, Jack\n"
     ]
    }
   ],
   "source": [
    "greet = \"Hello, \"\n",
    "name = \"Jack\"\n",
    "\n",
    "# using + operator\n",
    "result = greet + name\n",
    "print(result)\n",
    "\n",
    "# Output: Hello, Jack"
   ]
  },
  {
   "cell_type": "code",
   "execution_count": 14,
   "id": "742312d4-9393-4513-988f-96e05854093d",
   "metadata": {},
   "outputs": [
    {
     "name": "stdout",
     "output_type": "stream",
     "text": [
      "5\n",
      "True\n",
      "False\n"
     ]
    }
   ],
   "source": [
    "greet = 'Hello'\n",
    "\n",
    "# count length of greet string\n",
    "print(len(greet))\n",
    "\n",
    "print('a' in 'program') # True\n",
    "print('at' not in 'battle') # False"
   ]
  },
  {
   "cell_type": "code",
   "execution_count": 2,
   "id": "691ff65a-f4cb-4e14-a2a5-88ac39dd3cdf",
   "metadata": {},
   "outputs": [
    {
     "name": "stdout",
     "output_type": "stream",
     "text": [
      "Name: Mountain Bike, Gears: 11 \n"
     ]
    }
   ],
   "source": [
    "# define a class\n",
    "class Bike:\n",
    "    name = \"\"\n",
    "    gear = 0\n",
    "\n",
    "# create object of class\n",
    "bike1 = Bike()\n",
    "\n",
    "# access attributes and assign new values\n",
    "bike1.gear = 11\n",
    "bike1.name = \"Mountain Bike\"\n",
    "\n",
    "print(f\"Name: {bike1.name}, Gears: {bike1.gear} \")"
   ]
  },
  {
   "cell_type": "code",
   "execution_count": 4,
   "id": "83821e33-4c49-4256-8357-11a8427f6c09",
   "metadata": {},
   "outputs": [
    {
     "name": "stdout",
     "output_type": "stream",
     "text": [
      "Area of Room = 1309.0\n"
     ]
    }
   ],
   "source": [
    "# create a class\n",
    "class Room:\n",
    "    length = 0.0\n",
    "    breadth = 0.0\n",
    "    \n",
    "    # method to calculate area\n",
    "    def calculate_area(self):\n",
    "        print(\"Area of Room =\", self.length * self.breadth)\n",
    "\n",
    "# create object of Room class\n",
    "study_room = Room()\n",
    "\n",
    "# assign values to all the properties \n",
    "study_room.length = 42.5\n",
    "study_room.breadth = 30.8\n",
    "\n",
    "# access method inside class\n",
    "study_room.calculate_area()"
   ]
  },
  {
   "cell_type": "code",
   "execution_count": 6,
   "id": "af8663b9-cb16-4a7b-8d6a-33b84b924769",
   "metadata": {},
   "outputs": [
    {
     "name": "stdout",
     "output_type": "stream",
     "text": [
      "Buddy\n",
      "Canine\n"
     ]
    }
   ],
   "source": [
    "class Dog:\n",
    "    species = \"Canine\"  # Class attribute\n",
    "\n",
    "    def __init__(self, name, age):\n",
    "        self.name = name  # Instance attribute\n",
    "        self.age = age  # Instance attribute\n",
    "\n",
    "# Creating an object of the Dog class\n",
    "dog1 = Dog(\"Buddy\", 3)\n",
    "\n",
    "print(dog1.name)  # Output: Buddy\n",
    "print(dog1.species)  # Output: Canine"
   ]
  },
  {
   "cell_type": "code",
   "execution_count": 8,
   "id": "9de60f65-aeb3-494c-8c15-c2c8dd247e44",
   "metadata": {},
   "outputs": [
    {
     "name": "stdout",
     "output_type": "stream",
     "text": [
      "Buddy is barking!\n"
     ]
    }
   ],
   "source": [
    "class Dog:\n",
    "    def __init__(self, name, age):  \n",
    "        self.name = name \n",
    "        self.age = age\n",
    "\n",
    "    def bark(self): \n",
    "        print(f\"{self.name} is barking!\")\n",
    "\n",
    "# Creating an instance of Dog\n",
    "dog1 = Dog(\"Buddy\", 3)\n",
    "dog1.bark()"
   ]
  },
  {
   "cell_type": "code",
   "execution_count": 10,
   "id": "6eba9d7c-5ad8-417a-8940-2ac1ff18cc98",
   "metadata": {},
   "outputs": [
    {
     "name": "stdout",
     "output_type": "stream",
     "text": [
      "Canine\n",
      "Buddy\n",
      "Charlie\n",
      "Max\n",
      "Feline\n",
      "Feline\n"
     ]
    }
   ],
   "source": [
    "class Dog:\n",
    "    # Class variable\n",
    "    species = \"Canine\"\n",
    "\n",
    "    def __init__(self, name, age):\n",
    "        # Instance variables\n",
    "        self.name = name\n",
    "        self.age = age\n",
    "\n",
    "# Create objects\n",
    "dog1 = Dog(\"Buddy\", 3)\n",
    "dog2 = Dog(\"Charlie\", 5)\n",
    "\n",
    "# Access class and instance variables\n",
    "print(dog1.species)  # (Class variable)\n",
    "print(dog1.name)     # (Instance variable)\n",
    "print(dog2.name)     # (Instance variable)\n",
    "\n",
    "# Modify instance variables\n",
    "dog1.name = \"Max\"\n",
    "print(dog1.name)     # (Updated instance variable)\n",
    "\n",
    "# Modify class variable\n",
    "Dog.species = \"Feline\"\n",
    "print(dog1.species)  # (Updated class variable)\n",
    "print(dog2.species)"
   ]
  },
  {
   "cell_type": "code",
   "execution_count": 12,
   "id": "96e0b76a-7cfd-4a67-8b9b-275288139047",
   "metadata": {},
   "outputs": [
    {
     "name": "stdout",
     "output_type": "stream",
     "text": [
      "(3, 5)\n"
     ]
    }
   ],
   "source": [
    "class Point:\n",
    "    def __init__(self, x = 0, y = 0):\n",
    "        self.x = x\n",
    "        self.y = y\n",
    "    \n",
    "    def add_points(self, other):\n",
    "        x = self.x + other.x\n",
    "        y = self.y + other.y\n",
    "        return Point(x, y)\n",
    "    \n",
    "    \n",
    "p1 = Point(1, 2)\n",
    "p2 = Point(2, 3)\n",
    "\n",
    "p3 = p1.add_points(p2)\n",
    "\n",
    "print((p3.x, p3.y))   # Output: (3, 5)"
   ]
  },
  {
   "cell_type": "code",
   "execution_count": 14,
   "id": "e292ad9e-4326-419c-a9cf-0b60e50a1816",
   "metadata": {},
   "outputs": [
    {
     "name": "stdout",
     "output_type": "stream",
     "text": [
      "(3, 5)\n"
     ]
    }
   ],
   "source": [
    "class Point:\n",
    "    def __init__(self, x = 0, y = 0):\n",
    "        self.x = x\n",
    "        self.y = y\n",
    "    \n",
    "    def __add__(self, other):\n",
    "        x = self.x + other.x\n",
    "        y = self.y + other.y\n",
    "        return Point(x, y)\n",
    "    \n",
    "    \n",
    "p1 = Point(1, 2)\n",
    "p2 = Point(2, 3)\n",
    "\n",
    "# this statment calls the __add__() method\n",
    "p3 = p1 + p2\n",
    "\n",
    "print((p3.x, p3.y))   # Output: (3, 5)"
   ]
  },
  {
   "cell_type": "code",
   "execution_count": 16,
   "id": "6d404fe6-ad56-468d-83aa-08d0291645e2",
   "metadata": {},
   "outputs": [
    {
     "name": "stdout",
     "output_type": "stream",
     "text": [
      "True\n",
      "False\n"
     ]
    }
   ],
   "source": [
    "class Person:\n",
    "    def __init__(self, name, age):\n",
    "        self.name = name\n",
    "        self.age = age\n",
    "\n",
    "    # overload < operator\n",
    "    def __lt__(self, other):\n",
    "        return self.age < other.age\n",
    "\n",
    "p1 = Person(\"Alice\", 20)\n",
    "p2 = Person(\"Bob\", 30)\n",
    "\n",
    "print(p1 < p2)  # prints True\n",
    "print(p2 < p1)  # prints False"
   ]
  },
  {
   "cell_type": "code",
   "execution_count": 18,
   "id": "3526531b-d966-4659-a975-e24445a6ce10",
   "metadata": {},
   "outputs": [
    {
     "name": "stdout",
     "output_type": "stream",
     "text": [
      "ob1 is lessthan ob2\n",
      "Not equal\n"
     ]
    }
   ],
   "source": [
    "# Python program to overload equality\n",
    "# and less than operators\n",
    "\n",
    "class A:\n",
    "    def __init__(self, a):\n",
    "        self.a = a\n",
    "    def __lt__(self, other):\n",
    "        if(self.a<other.a):\n",
    "            return \"ob1 is lessthan ob2\"\n",
    "        else:\n",
    "            return \"ob2 is less than ob1\"\n",
    "    def __eq__(self, other):\n",
    "        if(self.a == other.a):\n",
    "            return \"Both are equal\"\n",
    "        else:\n",
    "            return \"Not equal\"\n",
    "                \n",
    "ob1 = A(2)\n",
    "ob2 = A(3)\n",
    "print(ob1 < ob2)\n",
    "\n",
    "ob3 = A(4)\n",
    "ob4 = A(4)\n",
    "print(ob1 == ob2)"
   ]
  },
  {
   "cell_type": "code",
   "execution_count": 2,
   "id": "fdfa206f-4ff6-4f7c-bb12-1a44c1b82199",
   "metadata": {},
   "outputs": [
    {
     "name": "stdout",
     "output_type": "stream",
     "text": [
      "I can eat\n",
      "My name is  Rohu\n"
     ]
    }
   ],
   "source": [
    " class Animal:\n",
    "\n",
    "    # attribute and method of the parent class\n",
    "    name = \"\"\n",
    "    \n",
    "    def eat(self):\n",
    "        print(\"I can eat\")\n",
    "\n",
    "# inherit from Animal\n",
    "class Dog(Animal):\n",
    "\n",
    "    # new method in subclass\n",
    "    def display(self):\n",
    "        # access name attribute of superclass using self\n",
    "        print(\"My name is \", self.name)\n",
    "\n",
    "# create an object of the subclass\n",
    "labrador = Dog()\n",
    "\n",
    "# access superclass attribute and method \n",
    "labrador.name = \"Rohu\"\n",
    "labrador.eat()\n",
    "\n",
    "# call subclass method \n",
    "labrador.display()-"
   ]
  },
  {
   "cell_type": "code",
   "execution_count": 4,
   "id": "1aa61915-2fd8-4e4d-884c-6ba472f8c502",
   "metadata": {},
   "outputs": [
    {
     "name": "stdout",
     "output_type": "stream",
     "text": [
      "I can eat\n",
      "I like to eat bones\n"
     ]
    }
   ],
   "source": [
    "class Animal:\n",
    "\n",
    "    name = \"\"\n",
    "    \n",
    "    def eat(self):\n",
    "        print(\"I can eat\")\n",
    "\n",
    "# inherit from Animal\n",
    "class Dog(Animal):\n",
    "    \n",
    "    # override eat() method\n",
    "    def eat(self):\n",
    "        \n",
    "        # call the eat() method of the superclass using super()\n",
    "        super().eat()\n",
    "        \n",
    "        print(\"I like to eat bones\")\n",
    "\n",
    "# create an object of the subclass\n",
    "labrador = Dog()\n",
    "\n",
    "labrador.eat()"
   ]
  },
  {
   "cell_type": "code",
   "execution_count": 6,
   "id": "1c642d9a-3a0d-49a9-87c7-8cab2904f129",
   "metadata": {},
   "outputs": [
    {
     "name": "stdout",
     "output_type": "stream",
     "text": [
      "Mammals can give direct birth.\n",
      "Winged animals can flap.\n"
     ]
    }
   ],
   "source": [
    "class Mammal:\n",
    "    def mammal_info(self):\n",
    "        print(\"Mammals can give direct birth.\")\n",
    "\n",
    "class WingedAnimal:\n",
    "    def winged_animal_info(self):\n",
    "        print(\"Winged animals can flap.\")\n",
    "\n",
    "class Bat(Mammal, WingedAnimal):\n",
    "    pass\n",
    "\n",
    "# create an object of Bat class\n",
    "b1 = Bat()\n",
    "\n",
    "b1.mammal_info()\n",
    "b1.winged_animal_info()"
   ]
  },
  {
   "cell_type": "code",
   "execution_count": 8,
   "id": "14631901-959f-46d5-925f-8ed394bed246",
   "metadata": {},
   "outputs": [
    {
     "name": "stdout",
     "output_type": "stream",
     "text": [
      "Super Class method called\n",
      "Derived class 1 method called\n",
      "Derived class 2 method called\n"
     ]
    }
   ],
   "source": [
    "class SuperClass:\n",
    "\n",
    "    def super_method(self):\n",
    "        print(\"Super Class method called\")\n",
    "\n",
    "# define class that derive from SuperClass\n",
    "class DerivedClass1(SuperClass):\n",
    "    def derived1_method(self):\n",
    "        print(\"Derived class 1 method called\")\n",
    "\n",
    "# define class that derive from DerivedClass1\n",
    "class DerivedClass2(DerivedClass1):\n",
    "\n",
    "    def derived2_method(self):\n",
    "        print(\"Derived class 2 method called\")\n",
    "\n",
    "# create an object of DerivedClass2\n",
    "d2 = DerivedClass2()\n",
    "\n",
    "d2.super_method()  # Output: \"Super Class method called\"\n",
    "\n",
    "d2.derived1_method()  # Output: \"Derived class 1 method called\"\n",
    "\n",
    "d2.derived2_method()  # Output: \"Derived class 2 method called\""
   ]
  },
  {
   "cell_type": "code",
   "execution_count": 10,
   "id": "4a446ac7-8903-429b-99af-e86dd6bb314d",
   "metadata": {},
   "outputs": [
    {
     "name": "stdout",
     "output_type": "stream",
     "text": [
      "Super Class 1 method called\n"
     ]
    }
   ],
   "source": [
    "class SuperClass1:\n",
    "    def info(self):\n",
    "        print(\"Super Class 1 method called\")\n",
    "\n",
    "class SuperClass2:\n",
    "    def info(self):\n",
    "        print(\"Super Class 2 method called\")\n",
    "\n",
    "class Derived(SuperClass1, SuperClass2):\n",
    "    pass\n",
    "\n",
    "d1 = Derived()\n",
    "d1.info()  \n"
   ]
  },
  {
   "cell_type": "code",
   "execution_count": 12,
   "id": "f5b0d2a9-b629-488a-ba75-0796fba00d1a",
   "metadata": {},
   "outputs": [
    {
     "name": "stdout",
     "output_type": "stream",
     "text": [
      "John 40000\n",
      "Alice 50000\n",
      "Bob 60000 HR\n",
      "Charlie 45000 10\n",
      "David 70000 Finance 20\n"
     ]
    }
   ],
   "source": [
    "# 1. Single Inheritance\n",
    "class Person:\n",
    "    def __init__(self, name):\n",
    "        self.name = name\n",
    "\n",
    "class Employee(Person):  # Employee inherits from Person\n",
    "    def __init__(self, name, salary):\n",
    "        super().__init__(name)\n",
    "        self.salary = salary\n",
    "\n",
    "# 2. Multiple Inheritance\n",
    "class Job:\n",
    "    def __init__(self, salary):\n",
    "        self.salary = salary\n",
    "\n",
    "class EmployeePersonJob(Employee, Job):  # Inherits from both Employee and Job\n",
    "    def __init__(self, name, salary):\n",
    "        Employee.__init__(self, name, salary)  # Initialize Employee\n",
    "        Job.__init__(self, salary)            # Initialize Job\n",
    "\n",
    "# 3. Multilevel Inheritance\n",
    "class Manager(EmployeePersonJob):  # Inherits from EmployeePersonJob\n",
    "    def __init__(self, name, salary, department):\n",
    "        EmployeePersonJob.__init__(self, name, salary)  # Explicitly initialize EmployeePersonJob\n",
    "        self.department = department\n",
    "\n",
    "# 4. Hierarchical Inheritance\n",
    "class AssistantManager(EmployeePersonJob):  # Inherits from EmployeePersonJob\n",
    "    def __init__(self, name, salary, team_size):\n",
    "        EmployeePersonJob.__init__(self, name, salary)  # Explicitly initialize EmployeePersonJob\n",
    "        self.team_size = team_size\n",
    "\n",
    "# 5. Hybrid Inheritance (Multiple + Multilevel)\n",
    "class SeniorManager(Manager, AssistantManager):  # Inherits from both Manager and AssistantManager\n",
    "    def __init__(self, name, salary, department, team_size):\n",
    "        Manager.__init__(self, name, salary, department)        # Initialize Manager\n",
    "        AssistantManager.__init__(self, name, salary, team_size)  # Initialize AssistantManager\n",
    "\n",
    "# Creating objects to show inheritance\n",
    "\n",
    "# Single Inheritance\n",
    "emp = Employee(\"John\", 40000)\n",
    "print(emp.name, emp.salary)\n",
    "\n",
    "# Multiple Inheritance\n",
    "emp2 = EmployeePersonJob(\"Alice\", 50000)\n",
    "print(emp2.name, emp2.salary)\n",
    "\n",
    "# Multilevel Inheritance\n",
    "mgr = Manager(\"Bob\", 60000, \"HR\")\n",
    "print(mgr.name, mgr.salary, mgr.department)\n",
    "\n",
    "# Hierarchical Inheritance\n",
    "asst_mgr = AssistantManager(\"Charlie\", 45000, 10)\n",
    "print(asst_mgr.name, asst_mgr.salary, asst_mgr.team_size)\n",
    "\n",
    "# Hybrid Inheritance\n",
    "sen_mgr = SeniorManager(\"David\", 70000, \"Finance\", 20)\n",
    "print(sen_mgr.name, sen_mgr.salary, sen_mgr.department, sen_mgr.team_size)"
   ]
  },
  {
   "cell_type": "code",
   "execution_count": 14,
   "id": "f9fa295f-fc2a-49b7-9f93-72be806cfa34",
   "metadata": {},
   "outputs": [
    {
     "name": "stdout",
     "output_type": "stream",
     "text": [
      "[<class '__main__.Class4'>, <class '__main__.Class2'>, <class '__main__.Class3'>, <class '__main__.Class1'>, <class 'object'>]\n",
      "(<class '__main__.Class4'>, <class '__main__.Class2'>, <class '__main__.Class3'>, <class '__main__.Class1'>, <class 'object'>)\n"
     ]
    }
   ],
   "source": [
    "#Multiple Inheritance\n",
    "# Python program to demonstrate\n",
    "# super()\n",
    "\n",
    "class Class1:\n",
    "    def m(self):\n",
    "        print(\"In Class1\")\n",
    "\n",
    "class Class2(Class1):\n",
    "    def m(self):\n",
    "        print(\"In Class2\")\n",
    "        super().m()\n",
    "\n",
    "class Class3(Class1):\n",
    "    def m(self):\n",
    "        print(\"In Class3\")\n",
    "        super().m()\n",
    "\n",
    "class Class4(Class2, Class3):\n",
    "    def m(self):\n",
    "        print(\"In Class4\")   \n",
    "        super().m()\n",
    "     \n",
    "print(Class4.mro())         #This will print list\n",
    "print(Class4.__mro__)        #This will print tuple"
   ]
  },
  {
   "cell_type": "code",
   "execution_count": 16,
   "id": "1bb32a4d-611f-4ab2-a288-3440fd0c773b",
   "metadata": {},
   "outputs": [
    {
     "name": "stdout",
     "output_type": "stream",
     "text": [
      "Animal speaks\n",
      "Mammal gives birth\n",
      "Bird lays eggs\n"
     ]
    }
   ],
   "source": [
    "#Hybrid Inheritance\n",
    "class Animal:\n",
    "    def speak(self):\n",
    "        print(\"Animal speaks\")\n",
    "\n",
    "\n",
    "class Mammal(Animal):\n",
    "    def give_birth(self):\n",
    "        print(\"Mammal gives birth\")\n",
    "\n",
    "\n",
    "class Bird(Animal):\n",
    "    def lay_eggs(self):\n",
    "        print(\"Bird lays eggs\")\n",
    "\n",
    "\n",
    "class Platypus(Mammal, Bird):\n",
    "    pass\n",
    "\n",
    "\n",
    "platypus = Platypus()\n",
    "platypus.speak()        # Method from Animal class\n",
    "platypus.give_birth()   # Method from Mammal class\n",
    "platypus.lay_eggs()    # Method from Bird class"
   ]
  },
  {
   "cell_type": "code",
   "execution_count": 18,
   "id": "f19cde7d-800b-4025-885c-157913247bbe",
   "metadata": {},
   "outputs": [
    {
     "name": "stdout",
     "output_type": "stream",
     "text": [
      "Vehicle moves\n",
      "Car drives\n",
      "Boat sails\n",
      "Amphibious vehicle can both drive and sail\n"
     ]
    }
   ],
   "source": [
    "#Hybrid Inheritance\n",
    "\n",
    "class Vehicle:\n",
    "    def move(self):\n",
    "        print(\"Vehicle moves\")\n",
    "\n",
    "\n",
    "class Car(Vehicle):\n",
    "    def drive(self):\n",
    "        print(\"Car drives\")\n",
    "\n",
    "\n",
    "class Boat(Vehicle):\n",
    "    def sail(self):\n",
    "        print(\"Boat sails\")\n",
    "\n",
    "\n",
    "class AmphibiousVehicle(Car, Boat):\n",
    "    def amphibious_action(self):\n",
    "        print(\"Amphibious vehicle can both drive and sail\")\n",
    "\n",
    "\n",
    "amphibious_vehicle = AmphibiousVehicle()\n",
    "amphibious_vehicle.move()\n",
    "amphibious_vehicle.drive()\n",
    "amphibious_vehicle.sail()\n",
    "amphibious_vehicle.amphibious_action()"
   ]
  },
  {
   "cell_type": "code",
   "execution_count": 24,
   "id": "60cc9903-e657-44ab-a5de-abe524e89c78",
   "metadata": {},
   "outputs": [
    {
     "ename": "SyntaxError",
     "evalue": "invalid syntax (1356257931.py, line 24)",
     "output_type": "error",
     "traceback": [
      "\u001b[1;36m  Cell \u001b[1;32mIn[24], line 24\u001b[1;36m\u001b[0m\n\u001b[1;33m    print(f&quot;The Name is : {self.name}&quot;)\u001b[0m\n\u001b[1;37m                ^\u001b[0m\n\u001b[1;31mSyntaxError\u001b[0m\u001b[1;31m:\u001b[0m invalid syntax\n"
     ]
    }
   ],
   "source": [
    "#Simple Multilevel Inheritance\n",
    "\n",
    "class Base:\n",
    "    # Constructor to set Data\n",
    "    def __init__(self, name, roll, role):\n",
    "        self.name = name\n",
    "        self.roll = roll\n",
    "        self.role = role\n",
    "\n",
    "# Intermediate Class: Inherits the Base Class\n",
    "class Intermediate(Base):\n",
    "    # Constructor to set age\n",
    "    def __init__(self, age, name, roll, role):\n",
    "        super().__init__(name, roll, role)\n",
    "        self.age = age\n",
    "\n",
    "# Derived Class: Inherits the Intermediate Class\n",
    "class Derived(Intermediate):\n",
    "    # Method to Print Data\n",
    "    def __init__(self, age, name, roll, role):\n",
    "        super().__init__(age, name, roll, role)\n",
    "\n",
    "    def Print_Data(self):\n",
    "        print(f&quot;The Name is : {self.name}&quot;)\n",
    "        print(f&quot;The Age is : {self.age}&quot;)\n",
    "        print(f&quot;The role is : {self.role}&quot;)\n",
    "        print(f&quot;The Roll is : {self.roll}&quot;)\n",
    "\n",
    "# Creating Object of Base Class\n",
    "obj = Derived(21, &quot;Lokesh Singh&quot;, 25, &quot;Software Trainer&quot;)\n",
    "\n",
    "# Printing the data with the help of derived class\n",
    "obj.Print_Data()"
   ]
  },
  {
   "cell_type": "code",
   "execution_count": 26,
   "id": "f6ea3b7d-2b2c-439d-9160-ab4553d26698",
   "metadata": {},
   "outputs": [
    {
     "ename": "SyntaxError",
     "evalue": "invalid syntax (4160655953.py, line 3)",
     "output_type": "error",
     "traceback": [
      "\u001b[1;36m  Cell \u001b[1;32mIn[26], line 3\u001b[1;36m\u001b[0m\n\u001b[1;33m    raise NotImplementedError(&quot;Subclasses must Implement area()&quot;)\u001b[0m\n\u001b[1;37m                              ^\u001b[0m\n\u001b[1;31mSyntaxError\u001b[0m\u001b[1;31m:\u001b[0m invalid syntax\n"
     ]
    }
   ],
   "source": [
    "class Shape:\n",
    "    def area(self):\n",
    "        raise NotImplementedError(&quot;Subclasses must Implement area()&quot;)\n",
    "\n",
    "\n",
    "class Rectangle(Shape):\n",
    "    def __init__(self, length, width):\n",
    "        self.width = width\n",
    "        self.length = length\n",
    "\n",
    "    def area(self):\n",
    "        print(f&quot;The Area of Rectangle is {self.length*self.width}&quot;)\n",
    "\n",
    "\n",
    "class Square(Rectangle):\n",
    "    def __init__(self, side):\n",
    "        super().__init__(side, side)\n",
    "\n",
    "    def area(self):\n",
    "        print(f&quot;The Area of Rectangle is {self.length ** 2}&quot;)\n",
    "\n",
    "\n",
    "# Creating Objects of class\n",
    "Rect = Rectangle(3, 4)\n",
    "my_sqre = Square(4)\n",
    "\n",
    "Rect.area()\n",
    "my_sqre.area()"
   ]
  },
  {
   "cell_type": "code",
   "execution_count": 2,
   "id": "ca1b4a37-b6d6-4648-8764-8ee83cab12b8",
   "metadata": {},
   "outputs": [
    {
     "name": "stdout",
     "output_type": "stream",
     "text": [
      "7\n",
      "Hello, World!\n",
      "[1, 2, 3, 4]\n"
     ]
    }
   ],
   "source": [
    "def add(a, b):\n",
    "    return a + b\n",
    "\n",
    "print(add(3, 4))           # Integer addition\n",
    "print(add(\"Hello, \", \"World!\"))  # String concatenation\n",
    "print(add([1, 2], [3, 4])) # List concatenation"
   ]
  },
  {
   "cell_type": "code",
   "execution_count": 4,
   "id": "159af2d8-2cdc-45f7-9fc8-e5b8f3e244fa",
   "metadata": {},
   "outputs": [
    {
     "name": "stdout",
     "output_type": "stream",
     "text": [
      "Area: 6\n",
      "Area: 78.5\n"
     ]
    }
   ],
   "source": [
    "class Shape:\n",
    "    def area(self):\n",
    "        return \"Undefined\"\n",
    "\n",
    "class Rectangle(Shape):\n",
    "    def __init__(self, length, width):\n",
    "        self.length = length\n",
    "        self.width = width\n",
    "\n",
    "    def area(self):\n",
    "        return self.length * self.width\n",
    "\n",
    "class Circle(Shape):\n",
    "    def __init__(self, radius):\n",
    "        self.radius = radius\n",
    "\n",
    "    def area(self):\n",
    "        return 3.14 * self.radius ** 2\n",
    "\n",
    "shapes = [Rectangle(2, 3), Circle(5)]\n",
    "for shape in shapes:\n",
    "    print(f\"Area: {shape.area()}\")"
   ]
  },
  {
   "cell_type": "code",
   "execution_count": 8,
   "id": "f3aab21e-bdc1-4867-93ad-0280181a23a4",
   "metadata": {},
   "outputs": [
    {
     "name": "stdout",
     "output_type": "stream",
     "text": [
      "Bark\n",
      "Meow\n",
      "Some generic sound\n"
     ]
    }
   ],
   "source": [
    "class Animal:\n",
    "    def sound(self):\n",
    "        return \"Some generic sound\"\n",
    "\n",
    "class Dog(Animal):\n",
    "    def sound(self):\n",
    "        return \"Bark\"\n",
    "\n",
    "class Cat(Animal):\n",
    "    def sound(self):\n",
    "        return \"Meow\"\n",
    "\n",
    "# Polymorphic behavior\n",
    "animals = [Dog(), Cat(), Animal()]\n",
    "for animal in animals:\n",
    "    print(animal.sound())  # Calls the overridden method based on the object type"
   ]
  },
  {
   "cell_type": "code",
   "execution_count": 10,
   "id": "487e6fff-d529-49a4-9254-6bfd8303bdcc",
   "metadata": {},
   "outputs": [
    {
     "name": "stdout",
     "output_type": "stream",
     "text": [
      "John\n",
      "John\n"
     ]
    }
   ],
   "source": [
    "class Public:\n",
    "    def __init__(self):\n",
    "        self.name = \"John\"  # Public attribute\n",
    "\n",
    "    def display_name(self):\n",
    "        print(self.name)  # Public method\n",
    "\n",
    "obj = Public()\n",
    "obj.display_name()  # Accessible\n",
    "print(obj.name)  # Accessible"
   ]
  },
  {
   "cell_type": "code",
   "execution_count": 12,
   "id": "a914a3e7-1cad-4c3e-81d1-e84baaa22ca4",
   "metadata": {},
   "outputs": [
    {
     "name": "stdout",
     "output_type": "stream",
     "text": [
      "30\n"
     ]
    }
   ],
   "source": [
    "class Protected:\n",
    "    def __init__(self):\n",
    "        self._age = 30  # Protected attribute\n",
    "\n",
    "class Subclass(Protected):\n",
    "    def display_age(self):\n",
    "        print(self._age)  # Accessible in subclass\n",
    "\n",
    "obj = Subclass()\n",
    "obj.display_age()"
   ]
  },
  {
   "cell_type": "code",
   "execution_count": 14,
   "id": "1fffade7-d08a-4505-b363-40f97512cda0",
   "metadata": {},
   "outputs": [
    {
     "name": "stdout",
     "output_type": "stream",
     "text": [
      "50000\n"
     ]
    }
   ],
   "source": [
    "class Private:\n",
    "    def __init__(self):\n",
    "        self.__salary = 50000  # Private attribute\n",
    "\n",
    "    def salary(self):\n",
    "        return self.__salary  # Access through public method\n",
    "\n",
    "obj = Private()\n",
    "print(obj.salary())  # Works\n",
    "#print(obj.__salary)  # Raises AttributeError"
   ]
  },
  {
   "cell_type": "code",
   "execution_count": 16,
   "id": "a4e4370c-85a8-4a72-8de8-91e0452bf17e",
   "metadata": {},
   "outputs": [
    {
     "name": "stdout",
     "output_type": "stream",
     "text": [
      "11\n",
      "Hi Geeks\n"
     ]
    }
   ],
   "source": [
    "def add(datatype, *args): \n",
    "  \n",
    "    # if datatype is int initialize answer as 0 \n",
    "    if datatype =='int': \n",
    "        answer = 0\n",
    "          \n",
    "    # if datatype is str initialize answer as '' \n",
    "    if datatype =='str': \n",
    "        answer ='' \n",
    "  \n",
    "    for x in args: \n",
    "  \n",
    "        answer = answer + x \n",
    "  \n",
    "    print(answer) \n",
    "  \n",
    "# Integer \n",
    "add('int', 5, 6) \n",
    "  \n",
    "# String \n",
    "add('str', 'Hi ', 'Geeks')"
   ]
  },
  {
   "cell_type": "code",
   "execution_count": 18,
   "id": "fad6e823-eb87-418f-8a41-0c5463203640",
   "metadata": {},
   "outputs": [
    {
     "name": "stdout",
     "output_type": "stream",
     "text": [
      "Modified feature_1 of class A by class B\n"
     ]
    }
   ],
   "source": [
    "class A:\n",
    "\n",
    "    def fun1(self):\n",
    "        print('feature_1 of class A')\n",
    "        \n",
    "    def fun2(self):\n",
    "        print('feature_2 of class A')\n",
    "    \n",
    "class B(A):\n",
    "    \n",
    "    # Modified function that already exist in class A\n",
    "    def fun1(self):\n",
    "        print('Modified feature_1 of class A by class B')    \n",
    "        \n",
    "    def fun3(self):\n",
    "        print('feature_3 of class B')\n",
    "        \n",
    "        \n",
    "# Create instance\n",
    "obj = B()\n",
    "    \n",
    "# Call the override function\n",
    "obj.fun1()"
   ]
  },
  {
   "cell_type": "code",
   "execution_count": null,
   "id": "e5d3eebc-e779-473e-91ba-01a608865222",
   "metadata": {},
   "outputs": [],
   "source": []
  }
 ],
 "metadata": {
  "kernelspec": {
   "display_name": "Python [conda env:base] *",
   "language": "python",
   "name": "conda-base-py"
  },
  "language_info": {
   "codemirror_mode": {
    "name": "ipython",
    "version": 3
   },
   "file_extension": ".py",
   "mimetype": "text/x-python",
   "name": "python",
   "nbconvert_exporter": "python",
   "pygments_lexer": "ipython3",
   "version": "3.12.7"
  }
 },
 "nbformat": 4,
 "nbformat_minor": 5
}
