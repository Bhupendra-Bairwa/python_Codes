{
 "cells": [
  {
   "cell_type": "code",
   "execution_count": null,
   "id": "a4bdd313-e857-4e65-b4b8-4ad5c73e458e",
   "metadata": {},
   "outputs": [],
   "source": [
    "# TASK 1: Image Handling\n",
    "\n",
    "# pip inatall opencv-python\n",
    "import cv2\n",
    "\n",
    "# Step 1: Capture an image using the webcam\n",
    "cap = cv2.VideoCapture(0)  # 0 is usually the default webcam\n",
    "\n",
    "print(\"Press 'c' to capture the image.\")\n",
    "while True:\n",
    "    ret, frame = cap.read()\n",
    "    if not ret:\n",
    "        print(\"Failed to grab frame\")\n",
    "        break\n",
    "\n",
    "    cv2.imshow(\"Webcam\", frame)\n",
    "\n",
    "    k = cv2.waitKey(1)\n",
    "    if k % 256 == ord('c'):  # Press 'c' to capture\n",
    "        captured_image = frame.copy()\n",
    "        break\n",
    "\n",
    "cap.release()\n",
    "cv2.destroyAllWindows()\n",
    "\n",
    "# Step 2: Save the captured image\n",
    "save_path = \"captured_image.jpg\"\n",
    "cv2.imwrite(save_path, captured_image)\n",
    "print(f\"Image saved at {save_path}\")\n",
    "\n",
    "# Step 3: Display the saved image\n",
    "img = cv2.imread(save_path)\n",
    "cv2.imshow(\"Captured Image\", img)\n",
    "cv2.waitKey(0)\n",
    "cv2.destroyAllWindows()\n",
    "\n",
    "# Step 4: Edit the image (example: crop the center part)\n",
    "# Get the image dimensions\n",
    "h, w, _ = img.shape\n",
    "start_row, start_col = int(h * 0.25), int(w * 0.25)\n",
    "end_row, end_col = int(h * 0.75), int(w * 0.75)\n",
    "\n",
    "# Crop the image\n",
    "cropped_img = img[start_row:end_row, start_col:end_col]\n",
    "\n",
    "# Modify pixels (example: set top-left 50x50 region to red)\n",
    "cropped_img[0:50, 0:50] = [0, 0, 255]  # BGR format (red)\n",
    "\n",
    "# Display the edited image\n",
    "cv2.imshow(\"Edited Image\", cropped_img)\n",
    "cv2.waitKey(0)\n",
    "cv2.destroyAllWindows()\n",
    "\n",
    "# Optionally save the edited image\n",
    "cv2.imwrite(\"edited_image.jpg\", cropped_img)\n",
    "print(\"Edited image saved as edited_image.jpg\")\n"
   ]
  },
  {
   "cell_type": "code",
   "execution_count": 8,
   "id": "5cc19444-6f71-4797-85c5-7a216337872a",
   "metadata": {},
   "outputs": [],
   "source": [
    "# TASK 2: WhatsApp Messaging\n",
    "\n",
    "# pip install pywhatkit\n",
    "import pywhatkit as kit\n",
    "\n",
    "# Specify the phone number (with country code) and the message\n",
    "phone_number = \"+919509982703\"\n",
    "message = \"Hello from Python! This is an instant WhatsApp message.\"\n",
    "\n",
    "# Send the message instantly\n",
    "kit.sendwhatmsg_instantly(phone_number, message)"
   ]
  },
  {
   "cell_type": "code",
   "execution_count": null,
   "id": "e559b117-7181-4b77-8569-429b1a3c40ba",
   "metadata": {},
   "outputs": [],
   "source": [
    "# TASK 3: Email sending\n",
    "\n",
    "import yagmail \n",
    "\n",
    "# Initialize the connection\n",
    "yag = yagmail.SMTP('bairwabhupendra98@gmail.com', 'cphn pxpx luks bclk')\n",
    "\n",
    "# Send the email\n",
    "yag.send(\n",
    "    to='receiver email',\n",
    "    subject='Hello from Python!',\n",
    "    contents='This is a test email sent using Python with yagmail!'\n",
    ")\n",
    "\n",
    "print(\"Email sent successfully using yagmail!\")"
   ]
  },
  {
   "cell_type": "code",
   "execution_count": 1,
   "id": "a238a984-c85e-4e85-b614-61172fd3c7fb",
   "metadata": {},
   "outputs": [
    {
     "ename": "ModuleNotFoundError",
     "evalue": "No module named 'gtts'",
     "output_type": "error",
     "traceback": [
      "\u001b[1;31m---------------------------------------------------------------------------\u001b[0m",
      "\u001b[1;31mModuleNotFoundError\u001b[0m                       Traceback (most recent call last)",
      "Cell \u001b[1;32mIn[1], line 1\u001b[0m\n\u001b[1;32m----> 1\u001b[0m \u001b[38;5;28;01mfrom\u001b[39;00m \u001b[38;5;21;01mgtts\u001b[39;00m \u001b[38;5;28;01mimport\u001b[39;00m gTTS\n\u001b[0;32m      4\u001b[0m \u001b[38;5;28;01mimport\u001b[39;00m \u001b[38;5;21;01mos\u001b[39;00m\n\u001b[0;32m      6\u001b[0m \u001b[38;5;66;03m# The text that you want to convert to audio\u001b[39;00m\n",
      "\u001b[1;31mModuleNotFoundError\u001b[0m: No module named 'gtts'"
     ]
    }
   ],
   "source": [
    "from gtts import gTTS\n",
    "\n",
    "\n",
    "import os\n",
    "\n",
    "# The text that you want to convert to audio\n",
    "mytext = 'Welcome to geeksforgeeks Joe!'\n",
    "\n",
    "# Language in which you want to convert\n",
    "language = 'en'\n",
    "\n",
    "\n",
    "myobj = gTTS(text=mytext, lang=language, slow=False)\n",
    "\n",
    "\n",
    "myobj.save(\"welcome.mp3\")\n",
    "\n",
    "# Playing the converted file\n",
    "os.system(\"start welcome.mp3\")\n",
    "Output"
   ]
  },
  {
   "cell_type": "code",
   "execution_count": 6,
   "id": "fb7dde7c-9771-4e4b-9683-1f544eff7811",
   "metadata": {},
   "outputs": [
    {
     "name": "stdout",
     "output_type": "stream",
     "text": [
      "Error: (534, b'5.7.9 Application-specific password required. For more information, go to\\n5.7.9  https://support.google.com/mail/?p=InvalidSecondFactor 98e67ed59e1d1-309f774e4ffsm4853880a91.12 - gsmtp')\n"
     ]
    }
   ],
   "source": [
    "import smtplib\n",
    "from email.mime.text import MIMEText\n",
    "from email.mime.multipart import MIMEMultipart\n",
    "\n",
    "# Email credentials\n",
    "sender_email = \"bairwabhupendra98@gmail.com\"\n",
    "sender_password = \"cphn pxpx luks bclk\"  # Use App Password if Gmail\n",
    "receiver_email = \"bhupendrabairwaqq2345@gmail.com\"\n",
    "\n",
    "# Create the email\n",
    "subject = \"Hello from Python!\"\n",
    "body = \"This is a test email sent using Python.\"\n",
    "\n",
    "# Set up the MIME\n",
    "message = MIMEMultipart()\n",
    "message[\"From\"] = sender_email\n",
    "message[\"To\"] = receiver_email\n",
    "message[\"Subject\"] = subject\n",
    "\n",
    "message.attach(MIMEText(body, \"plain\"))\n",
    "\n",
    "# Connect to the Gmail SMTP server and send the email\n",
    "try:\n",
    "    server = smtplib.SMTP('smtp.gmail.com', 587)\n",
    "    server.starttls()  # Upgrade the connection to secure\n",
    "    server.login(\"bairwabhupendra98@gmail.com\", \"Bhu&562004\")\n",
    "    server.sendmail(\"bairwabhupendra98@gmail.com\", \"bhupendrabairwaqq2345@gmail.com\", message.as_string())\n",
    "    print(\"Email sent successfully!\")\n",
    "except Exception as e:\n",
    "    print(f\"Error: {e}\")\n",
    "finally:\n",
    "    server.quit()\n"
   ]
  },
  {
   "cell_type": "code",
   "execution_count": 4,
   "id": "9ef31b90-92ca-45cf-99cb-dbd3df22e739",
   "metadata": {},
   "outputs": [
    {
     "data": {
      "text/plain": [
       "(221,\n",
       " b'2.0.0 closing connection d2e1a72fcca58-73e25a6a8cdsm5951211b3a.115 - gsmtp')"
      ]
     },
     "execution_count": 4,
     "metadata": {},
     "output_type": "execute_result"
    }
   ],
   "source": [
    "import smtplib\n",
    "# creates SMTP session\n",
    "s = smtplib.SMTP('smtp.gmail.com', 587)\n",
    "# start TLS for security\n",
    "s.starttls()\n",
    "# Authentication\n",
    "s.login(\"bairwabhupendra98@gmail.com\", \"cphn pxpx luks bclk\")\n",
    "# message to be sent\n",
    "message = \"Message_you_need_to_send\"\n",
    "# sending the mail\n",
    "s.sendmail(\"bairwabhupendra98@gmail.com\", \"bhupendrabairwaqq2345@gmail.com\", message)\n",
    "# terminating the session\n",
    "s.quit()\n"
   ]
  },
  {
   "cell_type": "code",
   "execution_count": 2,
   "id": "b303fc99-53ec-4ff9-a2b0-a889e72feb3e",
   "metadata": {},
   "outputs": [
    {
     "ename": "ImportError",
     "evalue": "cannot import name 'Emailmessage' from 'email.message' (C:\\Users\\Admin\\anaconda3\\Lib\\email\\message.py)",
     "output_type": "error",
     "traceback": [
      "\u001b[1;31m---------------------------------------------------------------------------\u001b[0m",
      "\u001b[1;31mImportError\u001b[0m                               Traceback (most recent call last)",
      "Cell \u001b[1;32mIn[2], line 2\u001b[0m\n\u001b[0;32m      1\u001b[0m \u001b[38;5;28;01mimport\u001b[39;00m \u001b[38;5;21;01mos\u001b[39;00m \n\u001b[1;32m----> 2\u001b[0m \u001b[38;5;28;01mfrom\u001b[39;00m \u001b[38;5;21;01memail\u001b[39;00m\u001b[38;5;21;01m.\u001b[39;00m\u001b[38;5;21;01mmessage\u001b[39;00m \u001b[38;5;28;01mimport\u001b[39;00m Emailmessage\n\u001b[0;32m      3\u001b[0m \u001b[38;5;28;01mimport\u001b[39;00m \u001b[38;5;21;01mssl\u001b[39;00m\n\u001b[0;32m      4\u001b[0m \u001b[38;5;28;01mimport\u001b[39;00m \u001b[38;5;21;01msmtplib\u001b[39;00m\n",
      "\u001b[1;31mImportError\u001b[0m: cannot import name 'Emailmessage' from 'email.message' (C:\\Users\\Admin\\anaconda3\\Lib\\email\\message.py)"
     ]
    }
   ],
   "source": [
    "import os \n",
    "from email.message import Emailmessage\n",
    "import ssl\n",
    "import smtplib\n",
    "\n",
    "email_sender = 'bairwabhupendra98@gmail.com'\n",
    "email_password = os.environ.get(\"cphn pxpx luks bclk\")\n",
    "email_receiver = 'bhupendrabairwaq2345@gmail.com'\n",
    "\n",
    "subject = 'Python Program '\n",
    "body = \"\"\" This is a Python Program by which we can send an email\"\"\"\n",
    "\n",
    "em = EmailMessage()\n",
    "em['From'] = email_sender\n",
    "em['To'] = email_receiver\n",
    "em['Subject'] = subject\n",
    "em.set_content(body)\n",
    "\n",
    "context = ssl.create_default_context()\n",
    "with smtplib.SMTP_SSL('smtp.gmail.com', 465,context=context) as smtp:\n",
    "    smtp.login(email_sender,email_password)\n",
    "    smtp.sendmail(email_sender,email_receiver,em.as_string())"
   ]
  },
  {
   "cell_type": "code",
   "execution_count": null,
   "id": "8734ea13-e04c-4b3a-bb4e-fdde599d9bd4",
   "metadata": {},
   "outputs": [],
   "source": []
  }
 ],
 "metadata": {
  "kernelspec": {
   "display_name": "Python [conda env:base] *",
   "language": "python",
   "name": "conda-base-py"
  },
  "language_info": {
   "codemirror_mode": {
    "name": "ipython",
    "version": 3
   },
   "file_extension": ".py",
   "mimetype": "text/x-python",
   "name": "python",
   "nbconvert_exporter": "python",
   "pygments_lexer": "ipython3",
   "version": "3.12.7"
  }
 },
 "nbformat": 4,
 "nbformat_minor": 5
}
